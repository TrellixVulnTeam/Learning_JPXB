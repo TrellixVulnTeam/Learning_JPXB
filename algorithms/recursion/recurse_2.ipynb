{
 "cells": [
  {
   "cell_type": "markdown",
   "metadata": {},
   "source": [
    "# More recursion fiddles"
   ]
  },
  {
   "cell_type": "code",
   "execution_count": 4,
   "metadata": {},
   "outputs": [],
   "source": [
    "import numpy as np"
   ]
  },
  {
   "cell_type": "code",
   "execution_count": 7,
   "metadata": {},
   "outputs": [
    {
     "data": {
      "text/plain": [
       "44"
      ]
     },
     "execution_count": 7,
     "metadata": {},
     "output_type": "execute_result"
    }
   ],
   "source": [
    "np.dot([2,4,6], [1,3,5])"
   ]
  },
  {
   "cell_type": "code",
   "execution_count": 114,
   "metadata": {},
   "outputs": [],
   "source": [
    "def ALG1(A=[2,4,6], B=[1,3,5], N=3):\n",
    "    if N == 0:\n",
    "        print('at the end, returning 0')\n",
    "        print()\n",
    "        return 0\n",
    "    a = A[N-1]*B[N-1]\n",
    "    b = ALG1(A, B, N-1)\n",
    "    x = a + b\n",
    "    print('N: {} | A[N-1]: {} | B[N-1]: {} '.format(N, A[N-1], B[N-1]))    \n",
    "    print('A[N-1]*B[N-1]: {} | ALG1(A, B, N-1): {} | returning sum: {}'.format(A[N-1]*B[N-1], b, x))\n",
    "    print()\n",
    "    return x"
   ]
  },
  {
   "cell_type": "code",
   "execution_count": 115,
   "metadata": {},
   "outputs": [
    {
     "name": "stdout",
     "output_type": "stream",
     "text": [
      "at the end, returning 0\n",
      "\n",
      "N: 1 | A[N-1]: 2 | B[N-1]: 1 \n",
      "A[N-1]*B[N-1]: 2 | ALG1(A, B, N-1): 0 | returning sum: 2\n",
      "\n",
      "N: 2 | A[N-1]: 4 | B[N-1]: 3 \n",
      "A[N-1]*B[N-1]: 12 | ALG1(A, B, N-1): 2 | returning sum: 14\n",
      "\n",
      "N: 3 | A[N-1]: 6 | B[N-1]: 5 \n",
      "A[N-1]*B[N-1]: 30 | ALG1(A, B, N-1): 14 | returning sum: 44\n",
      "\n"
     ]
    },
    {
     "data": {
      "text/plain": [
       "44"
      ]
     },
     "execution_count": 115,
     "metadata": {},
     "output_type": "execute_result"
    }
   ],
   "source": [
    "ALG1()"
   ]
  },
  {
   "cell_type": "code",
   "execution_count": 33,
   "metadata": {},
   "outputs": [],
   "source": [
    "def ALG2(A=[2,4,6,8,10,12], lo=0, hi=4):\n",
    "    if hi-lo == 1:\n",
    "        if (A[lo] < A[hi]):\n",
    "            print('hi: {} > lo: {} -> returning hi: {}'.format(hi, lo, hi))\n",
    "            print()\n",
    "            return hi\n",
    "        else:\n",
    "            print('hi: {} < lo: {} -> returning lo: {}'.format(hi, lo, lo))\n",
    "            print()\n",
    "            return lo\n",
    "    if lo == hi:\n",
    "        print('hi: {} == lo: {} -> returning hi: {}'.format(hi, lo, hi))\n",
    "        print()\n",
    "        return hi\n",
    "    mid = lo + (hi - lo) // 2\n",
    "    print('recursing for lo: {} & mid: {}'.format(lo, mid))\n",
    "    a = ALG2(A, lo, mid)\n",
    "    print('recursing for mid+1: {} & hi: {}'.format(mid+1, hi))\n",
    "    b = ALG2(A, mid+1, hi)\n",
    "    print('after recursion, a: {} | b: {}'.format(a, b))\n",
    "    if (A[a] > A[b]):\n",
    "        print('A[a]: {} > A[b]: {} -> returning a: {}'.format(A[a], A[b], a))\n",
    "        print()\n",
    "        return a\n",
    "    print('A[a]: {} < A[b]: {} -> returning b: {}'.format(A[a], A[b], b))\n",
    "    print()\n",
    "    return b"
   ]
  },
  {
   "cell_type": "code",
   "execution_count": 34,
   "metadata": {},
   "outputs": [
    {
     "name": "stdout",
     "output_type": "stream",
     "text": [
      "recursing for lo: 0 & mid: 2\n",
      "recursing for lo: 0 & mid: 1\n",
      "hi: 1 > lo: 0 -> returning hi: 1\n",
      "\n",
      "recursing for mid+1: 2 & hi: 2\n",
      "hi: 2 == lo: 2 -> returning hi: 2\n",
      "\n",
      "after recursion, a: 1 | b: 2\n",
      "A[a]: 4 < A[b]: 6 -> returning b: 2\n",
      "\n",
      "recursing for mid+1: 3 & hi: 4\n",
      "hi: 4 > lo: 3 -> returning hi: 4\n",
      "\n",
      "after recursion, a: 2 | b: 4\n",
      "A[a]: 6 < A[b]: 10 -> returning b: 4\n",
      "\n"
     ]
    },
    {
     "data": {
      "text/plain": [
       "4"
      ]
     },
     "execution_count": 34,
     "metadata": {},
     "output_type": "execute_result"
    }
   ],
   "source": [
    "ALG2()"
   ]
  },
  {
   "cell_type": "code",
   "execution_count": 98,
   "metadata": {},
   "outputs": [],
   "source": [
    "def ALG3(A=[[1,2,3],[4,5,6],[7,8,9]], N=3):\n",
    "    print('entering, N: {} | A[N-1][N-1]: {}'.format(N, A[N-1][N-1]))\n",
    "    if N == 0:\n",
    "        print('end of recursion, returning 0')\n",
    "        return 0\n",
    "    x = A[N-1][N-1] + ALG3(A, N-1)\n",
    "    print('after recursiong, result: {}'.format(x))\n",
    "    return x"
   ]
  },
  {
   "cell_type": "code",
   "execution_count": 99,
   "metadata": {},
   "outputs": [
    {
     "name": "stdout",
     "output_type": "stream",
     "text": [
      "entering, N: 3 | A[N-1][N-1]: 9\n",
      "entering, N: 2 | A[N-1][N-1]: 5\n",
      "entering, N: 1 | A[N-1][N-1]: 1\n",
      "entering, N: 0 | A[N-1][N-1]: 9\n",
      "end of recursion, returning 0\n",
      "after recursiong, result: 1\n",
      "after recursiong, result: 6\n",
      "after recursiong, result: 15\n"
     ]
    },
    {
     "data": {
      "text/plain": [
       "15"
      ]
     },
     "execution_count": 99,
     "metadata": {},
     "output_type": "execute_result"
    }
   ],
   "source": [
    "ALG3()"
   ]
  },
  {
   "cell_type": "code",
   "execution_count": 133,
   "metadata": {},
   "outputs": [],
   "source": [
    "def ALG4(A=[[0,1,2],[1,2,3],[3,4,5]], B=[[1,1,1],[2,2,2],[3,3,3]], N=3):\n",
    "    print('N: {}'.format(N))\n",
    "    if N == 0:\n",
    "        print('end of recursion, returning 0')\n",
    "        print()\n",
    "        return 0\n",
    "    a = A[N-1][N-1] \n",
    "    b = B[N-1][N-1]\n",
    "    r1 = ALG4(A, B, N-1) \n",
    "    r2 = ALG4(A, B, N-1)\n",
    "    x = a + b + r1 + r2\n",
    "    print('just recursed, A[{0}][{0}]: {1} | B[{0}][{0}]: {2} | 2 * ALG4(A, B, {0}): {3} | returning sum: {4}'.format(N-1, a, b, r1+r2, x))\n",
    "    print()\n",
    "    return x"
   ]
  },
  {
   "cell_type": "code",
   "execution_count": 134,
   "metadata": {},
   "outputs": [
    {
     "name": "stdout",
     "output_type": "stream",
     "text": [
      "N: 3\n",
      "N: 2\n",
      "N: 1\n",
      "N: 0\n",
      "end of recursion, returning 0\n",
      "\n",
      "N: 0\n",
      "end of recursion, returning 0\n",
      "\n",
      "just recursed, A[0][0]: 0 | B[0][0]: 1 | 2 * ALG4(A, B, 0): 0 | returning sum: 1\n",
      "\n",
      "N: 1\n",
      "N: 0\n",
      "end of recursion, returning 0\n",
      "\n",
      "N: 0\n",
      "end of recursion, returning 0\n",
      "\n",
      "just recursed, A[0][0]: 0 | B[0][0]: 1 | 2 * ALG4(A, B, 0): 0 | returning sum: 1\n",
      "\n",
      "just recursed, A[1][1]: 2 | B[1][1]: 2 | 2 * ALG4(A, B, 1): 2 | returning sum: 6\n",
      "\n",
      "N: 2\n",
      "N: 1\n",
      "N: 0\n",
      "end of recursion, returning 0\n",
      "\n",
      "N: 0\n",
      "end of recursion, returning 0\n",
      "\n",
      "just recursed, A[0][0]: 0 | B[0][0]: 1 | 2 * ALG4(A, B, 0): 0 | returning sum: 1\n",
      "\n",
      "N: 1\n",
      "N: 0\n",
      "end of recursion, returning 0\n",
      "\n",
      "N: 0\n",
      "end of recursion, returning 0\n",
      "\n",
      "just recursed, A[0][0]: 0 | B[0][0]: 1 | 2 * ALG4(A, B, 0): 0 | returning sum: 1\n",
      "\n",
      "just recursed, A[1][1]: 2 | B[1][1]: 2 | 2 * ALG4(A, B, 1): 2 | returning sum: 6\n",
      "\n",
      "just recursed, A[2][2]: 5 | B[2][2]: 3 | 2 * ALG4(A, B, 2): 12 | returning sum: 20\n",
      "\n"
     ]
    },
    {
     "data": {
      "text/plain": [
       "20"
      ]
     },
     "execution_count": 134,
     "metadata": {},
     "output_type": "execute_result"
    }
   ],
   "source": [
    "ALG4()"
   ]
  },
  {
   "cell_type": "code",
   "execution_count": 156,
   "metadata": {},
   "outputs": [],
   "source": [
    "def ALG4_mute(A=[[0,1,2],[1,2,3],[3,4,5]], B=[[1,1,1],[2,2,2],[3,3,3]], N=3):\n",
    "    if N == 0:\n",
    "        return 0\n",
    "    a = A[N-1][N-1] \n",
    "    b = B[N-1][N-1]\n",
    "    r1 = ALG4_mute(A, B, N-1) \n",
    "    r2 = ALG4_mute(A, B, N-1)\n",
    "    x = a + b + r1 + r2\n",
    "    return x"
   ]
  },
  {
   "cell_type": "code",
   "execution_count": 157,
   "metadata": {},
   "outputs": [
    {
     "data": {
      "text/plain": [
       "20"
      ]
     },
     "execution_count": 157,
     "metadata": {},
     "output_type": "execute_result"
    }
   ],
   "source": [
    "A = np.\n",
    "ALG4_mute()"
   ]
  }
 ],
 "metadata": {
  "kernelspec": {
   "display_name": "Python 3",
   "language": "python",
   "name": "python3"
  },
  "language_info": {
   "codemirror_mode": {
    "name": "ipython",
    "version": 3
   },
   "file_extension": ".py",
   "mimetype": "text/x-python",
   "name": "python",
   "nbconvert_exporter": "python",
   "pygments_lexer": "ipython3",
   "version": "3.6.9"
  }
 },
 "nbformat": 4,
 "nbformat_minor": 4
}
