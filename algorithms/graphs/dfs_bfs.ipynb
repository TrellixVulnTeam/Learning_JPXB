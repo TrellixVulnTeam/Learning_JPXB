{
 "cells": [
  {
   "cell_type": "markdown",
   "metadata": {},
   "source": [
    "# Depth-first & Breadth-first Search in Python\n",
    "\n",
    "Source [here](https://eddmann.com/posts/depth-first-search-and-breadth-first-search-in-python/)\n",
    "\n",
    "---\n",
    "\n",
    "Note: not ideal implementation as it yields sets, instead of lists (preserving order of discovery). Also, in the original article, the author names a variable after the built-in function `next`, bad practice!"
   ]
  },
  {
   "cell_type": "code",
   "execution_count": 2,
   "metadata": {},
   "outputs": [],
   "source": [
    "graph = {'A': {'B', 'C'},\n",
    "         'B': {'A', 'D', 'E'},\n",
    "         'C': {'A', 'F'},\n",
    "         'D': {'B'},\n",
    "         'E': {'B', 'F'},\n",
    "         'F': {'C', 'E'}}"
   ]
  },
  {
   "cell_type": "code",
   "execution_count": 58,
   "metadata": {},
   "outputs": [],
   "source": [
    "def dfs(graph, start):\n",
    "    visited, stack = set(), [start]\n",
    "    print('starting with:', start)\n",
    "    while stack:\n",
    "        vertex = stack.pop()\n",
    "        print('now checking vertex {} \\nstack: {:<10} \\nvisited: {}'.format(vertex, repr(stack), visited))\n",
    "        if vertex not in visited:\n",
    "            print(vertex, 'not visited, saving & stacking (neighbours - visited):', graph[vertex])\n",
    "            visited.add(vertex)\n",
    "            stack.extend(graph[vertex] - visited)\n",
    "            print('stack now:', stack)\n",
    "        else:\n",
    "            print('already visited vertex', vertex, '> skipping!')\n",
    "        print()\n",
    "    return visited"
   ]
  },
  {
   "cell_type": "markdown",
   "metadata": {},
   "source": [
    "![graph](graph.png)"
   ]
  },
  {
   "cell_type": "code",
   "execution_count": 59,
   "metadata": {},
   "outputs": [
    {
     "name": "stdout",
     "output_type": "stream",
     "text": [
      "starting with: A\n",
      "now checking vertex A \n",
      "stack: []         \n",
      "visited: set()\n",
      "A not visited, saving & stacking (neighbours - visited): {'C', 'B'}\n",
      "stack now: ['C', 'B']\n",
      "\n",
      "now checking vertex B \n",
      "stack: ['C']      \n",
      "visited: {'A'}\n",
      "B not visited, saving & stacking (neighbours - visited): {'A', 'D', 'E'}\n",
      "stack now: ['C', 'D', 'E']\n",
      "\n",
      "now checking vertex E \n",
      "stack: ['C', 'D'] \n",
      "visited: {'A', 'B'}\n",
      "E not visited, saving & stacking (neighbours - visited): {'F', 'B'}\n",
      "stack now: ['C', 'D', 'F']\n",
      "\n",
      "now checking vertex F \n",
      "stack: ['C', 'D'] \n",
      "visited: {'A', 'E', 'B'}\n",
      "F not visited, saving & stacking (neighbours - visited): {'C', 'E'}\n",
      "stack now: ['C', 'D', 'C']\n",
      "\n",
      "now checking vertex C \n",
      "stack: ['C', 'D'] \n",
      "visited: {'A', 'E', 'B', 'F'}\n",
      "C not visited, saving & stacking (neighbours - visited): {'A', 'F'}\n",
      "stack now: ['C', 'D']\n",
      "\n",
      "now checking vertex D \n",
      "stack: ['C']      \n",
      "visited: {'F', 'C', 'B', 'A', 'E'}\n",
      "D not visited, saving & stacking (neighbours - visited): {'B'}\n",
      "stack now: ['C']\n",
      "\n",
      "now checking vertex C \n",
      "stack: []         \n",
      "visited: {'F', 'D', 'C', 'B', 'A', 'E'}\n",
      "already visited vertex C > skipping!\n",
      "\n",
      "{'F', 'D', 'C', 'B', 'A', 'E'}\n"
     ]
    }
   ],
   "source": [
    "print(dfs(graph, 'A'))"
   ]
  },
  {
   "cell_type": "code",
   "execution_count": 70,
   "metadata": {},
   "outputs": [],
   "source": [
    "# recusrive version\n",
    "def dfs(graph, start, visited=None):\n",
    "    if visited is None:\n",
    "        visited = set()\n",
    "    print('start', start)\n",
    "    print('visited:', visited)\n",
    "    visited.add(start)\n",
    "    print('adjacent nodes:', graph[start])\n",
    "    print('next (adjacent - visited):', graph[start] - visited)\n",
    "    print()\n",
    "    for node in graph[start] - visited:\n",
    "        dfs(graph, node, visited)\n",
    "    return visited"
   ]
  },
  {
   "cell_type": "markdown",
   "metadata": {},
   "source": [
    "![graph](graph.png)"
   ]
  },
  {
   "cell_type": "code",
   "execution_count": 71,
   "metadata": {},
   "outputs": [
    {
     "name": "stdout",
     "output_type": "stream",
     "text": [
      "start A\n",
      "visited: set()\n",
      "adjacent nodes: {'C', 'B'}\n",
      "next (adjacent - visited): {'C', 'B'}\n",
      "\n",
      "start C\n",
      "visited: {'A'}\n",
      "adjacent nodes: {'A', 'F'}\n",
      "next (adjacent - visited): {'F'}\n",
      "\n",
      "start F\n",
      "visited: {'A', 'C'}\n",
      "adjacent nodes: {'C', 'E'}\n",
      "next (adjacent - visited): {'E'}\n",
      "\n",
      "start E\n",
      "visited: {'A', 'C', 'F'}\n",
      "adjacent nodes: {'F', 'B'}\n",
      "next (adjacent - visited): {'B'}\n",
      "\n",
      "start B\n",
      "visited: {'A', 'C', 'E', 'F'}\n",
      "adjacent nodes: {'A', 'D', 'E'}\n",
      "next (adjacent - visited): {'D'}\n",
      "\n",
      "start D\n",
      "visited: {'F', 'C', 'B', 'A', 'E'}\n",
      "adjacent nodes: {'B'}\n",
      "next (adjacent - visited): set()\n",
      "\n",
      "start B\n",
      "visited: {'F', 'D', 'C', 'B', 'A', 'E'}\n",
      "adjacent nodes: {'A', 'D', 'E'}\n",
      "next (adjacent - visited): set()\n",
      "\n"
     ]
    },
    {
     "data": {
      "text/plain": [
       "{'A', 'B', 'C', 'D', 'E', 'F'}"
      ]
     },
     "execution_count": 71,
     "metadata": {},
     "output_type": "execute_result"
    }
   ],
   "source": [
    "dfs(graph, 'A')"
   ]
  },
  {
   "cell_type": "markdown",
   "metadata": {},
   "source": [
    "---\n",
    "\n",
    "# Paths"
   ]
  },
  {
   "cell_type": "code",
   "execution_count": 97,
   "metadata": {},
   "outputs": [],
   "source": [
    "def dfs_paths(graph, start, goal):\n",
    "    stack = [(start, [start])]\n",
    "    print('start:', start)\n",
    "    while stack:\n",
    "        (vertex, path) = stack.pop()\n",
    "        print()        \n",
    "        print('at vertex: {} | current path: {}'.format(vertex, repr(path)))\n",
    "        for node in graph[vertex] - set(path):\n",
    "            if node == goal:\n",
    "                print('arrived!, node: {} | path: {}'.format(node, repr(path+[node])))\n",
    "                print('-------------------------')\n",
    "                yield path + [node]\n",
    "            else:\n",
    "                print('appending node {} to path'.format(node))\n",
    "                stack.append((node, path + [node]))"
   ]
  },
  {
   "cell_type": "markdown",
   "metadata": {},
   "source": [
    "![graph](graph.png)"
   ]
  },
  {
   "cell_type": "code",
   "execution_count": 98,
   "metadata": {},
   "outputs": [
    {
     "name": "stdout",
     "output_type": "stream",
     "text": [
      "start: A\n",
      "\n",
      "at vertex: A | current path: ['A']\n",
      "appending node C to path\n",
      "appending node B to path\n",
      "\n",
      "at vertex: B | current path: ['A', 'B']\n",
      "appending node D to path\n",
      "appending node E to path\n",
      "\n",
      "at vertex: E | current path: ['A', 'B', 'E']\n",
      "arrived!, node: F | path: ['A', 'B', 'E', 'F']\n",
      "-------------------------\n",
      "\n",
      "at vertex: D | current path: ['A', 'B', 'D']\n",
      "\n",
      "at vertex: C | current path: ['A', 'C']\n",
      "arrived!, node: F | path: ['A', 'C', 'F']\n",
      "-------------------------\n"
     ]
    },
    {
     "data": {
      "text/plain": [
       "[['A', 'B', 'E', 'F'], ['A', 'C', 'F']]"
      ]
     },
     "execution_count": 98,
     "metadata": {},
     "output_type": "execute_result"
    }
   ],
   "source": [
    "list((dfs_paths(graph, 'A', 'F')))"
   ]
  },
  {
   "cell_type": "code",
   "execution_count": 120,
   "metadata": {},
   "outputs": [],
   "source": [
    "# recursive implementation\n",
    "\n",
    "def dfs_paths(graph, start, goal, path=None):\n",
    "    if path is None:\n",
    "        path = [start]\n",
    "    if start == goal:\n",
    "        print('done!, path:', path)\n",
    "        print('---------------')\n",
    "        print()\n",
    "        yield path\n",
    "    print('currently at: {} | goal: {}'.format(start, goal))\n",
    "    print('path:', path)\n",
    "    print('adjacent:', graph[start])\n",
    "    print('next (adjacent - path):', graph[start] - set(path))\n",
    "    print()\n",
    "    for node in graph[start] - set(path):\n",
    "        yield from dfs_paths(graph, node, goal, path + [node])"
   ]
  },
  {
   "cell_type": "markdown",
   "metadata": {},
   "source": [
    "![graph](graph.png)"
   ]
  },
  {
   "cell_type": "code",
   "execution_count": 121,
   "metadata": {},
   "outputs": [
    {
     "name": "stdout",
     "output_type": "stream",
     "text": [
      "currently at: C | goal: F\n",
      "path: ['C']\n",
      "adjacent: {'A', 'F'}\n",
      "next (adjacent - path): {'A', 'F'}\n",
      "\n",
      "currently at: A | goal: F\n",
      "path: ['C', 'A']\n",
      "adjacent: {'C', 'B'}\n",
      "next (adjacent - path): {'B'}\n",
      "\n",
      "currently at: B | goal: F\n",
      "path: ['C', 'A', 'B']\n",
      "adjacent: {'A', 'D', 'E'}\n",
      "next (adjacent - path): {'D', 'E'}\n",
      "\n",
      "currently at: D | goal: F\n",
      "path: ['C', 'A', 'B', 'D']\n",
      "adjacent: {'B'}\n",
      "next (adjacent - path): set()\n",
      "\n",
      "currently at: E | goal: F\n",
      "path: ['C', 'A', 'B', 'E']\n",
      "adjacent: {'F', 'B'}\n",
      "next (adjacent - path): {'F'}\n",
      "\n",
      "done!, path: ['C', 'A', 'B', 'E', 'F']\n",
      "---------------\n",
      "\n",
      "currently at: F | goal: F\n",
      "path: ['C', 'A', 'B', 'E', 'F']\n",
      "adjacent: {'C', 'E'}\n",
      "next (adjacent - path): set()\n",
      "\n",
      "done!, path: ['C', 'F']\n",
      "---------------\n",
      "\n",
      "currently at: F | goal: F\n",
      "path: ['C', 'F']\n",
      "adjacent: {'C', 'E'}\n",
      "next (adjacent - path): {'E'}\n",
      "\n",
      "currently at: E | goal: F\n",
      "path: ['C', 'F', 'E']\n",
      "adjacent: {'F', 'B'}\n",
      "next (adjacent - path): {'B'}\n",
      "\n",
      "currently at: B | goal: F\n",
      "path: ['C', 'F', 'E', 'B']\n",
      "adjacent: {'A', 'D', 'E'}\n",
      "next (adjacent - path): {'A', 'D'}\n",
      "\n",
      "currently at: A | goal: F\n",
      "path: ['C', 'F', 'E', 'B', 'A']\n",
      "adjacent: {'C', 'B'}\n",
      "next (adjacent - path): set()\n",
      "\n",
      "currently at: D | goal: F\n",
      "path: ['C', 'F', 'E', 'B', 'D']\n",
      "adjacent: {'B'}\n",
      "next (adjacent - path): set()\n",
      "\n",
      "[['C', 'A', 'B', 'E', 'F'], ['C', 'F']]\n"
     ]
    }
   ],
   "source": [
    "print(list(dfs_paths(graph, 'C', 'F')))"
   ]
  },
  {
   "cell_type": "markdown",
   "metadata": {},
   "source": [
    "---\n",
    "\n",
    "# Breadth-first Search"
   ]
  },
  {
   "cell_type": "code",
   "execution_count": 130,
   "metadata": {},
   "outputs": [],
   "source": [
    "def bfs(graph, start):\n",
    "    visited, queue = set(), [start]\n",
    "    print('start:', start)\n",
    "    print('visited: {} | queue: {}'.format(visited, queue))\n",
    "    print()\n",
    "    while queue:\n",
    "        vertex = queue.pop(0)\n",
    "        print('next: {} | queue: {}'.format(vertex, queue)) \n",
    "        print('visited', visited)\n",
    "        if vertex not in visited:\n",
    "            visited.add(vertex)\n",
    "            print('now adding adjacent {} to queue'.format(graph[vertex]-visited))\n",
    "            queue.extend(graph[vertex] - visited)\n",
    "        print()\n",
    "    return visited"
   ]
  },
  {
   "cell_type": "markdown",
   "metadata": {},
   "source": [
    "![graph](graph.png)"
   ]
  },
  {
   "cell_type": "code",
   "execution_count": 131,
   "metadata": {},
   "outputs": [
    {
     "name": "stdout",
     "output_type": "stream",
     "text": [
      "start: A\n",
      "visited: set() | queue: ['A']\n",
      "\n",
      "next: A | queue: []\n",
      "visited set()\n",
      "now adding adjacent {'C', 'B'} to queue\n",
      "\n",
      "next: C | queue: ['B']\n",
      "visited {'A'}\n",
      "now adding adjacent {'F'} to queue\n",
      "\n",
      "next: B | queue: ['F']\n",
      "visited {'A', 'C'}\n",
      "now adding adjacent {'D', 'E'} to queue\n",
      "\n",
      "next: F | queue: ['D', 'E']\n",
      "visited {'A', 'C', 'B'}\n",
      "now adding adjacent {'E'} to queue\n",
      "\n",
      "next: D | queue: ['E', 'E']\n",
      "visited {'A', 'C', 'B', 'F'}\n",
      "now adding adjacent set() to queue\n",
      "\n",
      "next: E | queue: ['E']\n",
      "visited {'F', 'D', 'C', 'B', 'A'}\n",
      "now adding adjacent set() to queue\n",
      "\n",
      "next: E | queue: []\n",
      "visited {'F', 'D', 'C', 'B', 'A', 'E'}\n",
      "\n"
     ]
    },
    {
     "data": {
      "text/plain": [
       "{'A', 'B', 'C', 'D', 'E', 'F'}"
      ]
     },
     "execution_count": 131,
     "metadata": {},
     "output_type": "execute_result"
    }
   ],
   "source": [
    "bfs(graph, 'A')"
   ]
  },
  {
   "cell_type": "code",
   "execution_count": 151,
   "metadata": {},
   "outputs": [],
   "source": [
    "def bfs_paths(graph, start, goal):\n",
    "    queue = [(start, [start])]\n",
    "    print('start: {} | goal: {} | queue: {}'. format(start, goal, queue))\n",
    "    while queue:\n",
    "        (vertex, path) = queue.pop(0)\n",
    "        print()\n",
    "        print('at vertex:', vertex)\n",
    "        for node in graph[vertex] - set(path):\n",
    "            if node == goal:\n",
    "                print()\n",
    "                print('done!, path:', path+[node])\n",
    "                print('-'*40)\n",
    "                yield path + [node]\n",
    "            else:\n",
    "                print()\n",
    "                print('queue:', queue)\n",
    "                print('appending node {} & path {} to queue.'.format(node, path+[node]))\n",
    "                queue.append((node, path + [node]))"
   ]
  },
  {
   "cell_type": "markdown",
   "metadata": {},
   "source": [
    "![graph](graph.png)"
   ]
  },
  {
   "cell_type": "code",
   "execution_count": 152,
   "metadata": {},
   "outputs": [
    {
     "name": "stdout",
     "output_type": "stream",
     "text": [
      "start: A | goal: F | queue: [('A', ['A'])]\n",
      "\n",
      "at vertex: A\n",
      "\n",
      "queue: []\n",
      "appending node C & path ['A', 'C'] to queue.\n",
      "\n",
      "queue: [('C', ['A', 'C'])]\n",
      "appending node B & path ['A', 'B'] to queue.\n",
      "\n",
      "at vertex: C\n",
      "\n",
      "done!, path: ['A', 'C', 'F']\n",
      "----------------------------------------\n",
      "\n",
      "at vertex: B\n",
      "\n",
      "queue: []\n",
      "appending node D & path ['A', 'B', 'D'] to queue.\n",
      "\n",
      "queue: [('D', ['A', 'B', 'D'])]\n",
      "appending node E & path ['A', 'B', 'E'] to queue.\n",
      "\n",
      "at vertex: D\n",
      "\n",
      "at vertex: E\n",
      "\n",
      "done!, path: ['A', 'B', 'E', 'F']\n",
      "----------------------------------------\n",
      "[['A', 'C', 'F'], ['A', 'B', 'E', 'F']]\n"
     ]
    }
   ],
   "source": [
    "print(list(bfs_paths(graph, 'A', 'F')))"
   ]
  },
  {
   "cell_type": "code",
   "execution_count": null,
   "metadata": {},
   "outputs": [],
   "source": []
  }
 ],
 "metadata": {
  "kernelspec": {
   "display_name": "Python 3",
   "language": "python",
   "name": "python3"
  },
  "language_info": {
   "codemirror_mode": {
    "name": "ipython",
    "version": 3
   },
   "file_extension": ".py",
   "mimetype": "text/x-python",
   "name": "python",
   "nbconvert_exporter": "python",
   "pygments_lexer": "ipython3",
   "version": "3.6.9"
  }
 },
 "nbformat": 4,
 "nbformat_minor": 4
}
