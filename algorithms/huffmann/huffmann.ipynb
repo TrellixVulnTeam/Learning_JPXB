{
 "cells": [
  {
   "cell_type": "markdown",
   "metadata": {},
   "source": [
    "# Huffmann Coding\n",
    "\n",
    "## [Wikipedia](https://en.wikipedia.org/wiki/Huffman_coding).\n",
    "\n",
    "![huff 1](HuffmanCodeAlg.png)  \n",
    "![huff 2](1024px-Huffman_tree_2.svg.png)  \n",
    "![huff 3](800px-Huffman_coding_visualisation.svg.png) \n",
    "\n",
    "--- \n",
    "\n",
    "## Python source [here](http://bhrigu.me/blog/2017/01/17/huffman-coding-python-implementation/).\n",
    "\n",
    "In the original, the only way to decompress back from binary without bugs is to have instantiated the class and performed the compression (as the author implements the creation of the heap, the dictionaries for codes, etc., during that step). In this implementation the necessary steps are performed at initialisation, thus it is possible to run either compress or decompress separately (the latter provided the original file and the binary file are both present)."
   ]
  },
  {
   "cell_type": "code",
   "execution_count": 1,
   "metadata": {},
   "outputs": [],
   "source": [
    "from collections import Counter\n",
    "import heapq\n",
    "import os"
   ]
  },
  {
   "cell_type": "code",
   "execution_count": 2,
   "metadata": {},
   "outputs": [],
   "source": [
    "class HeapNode:\n",
    "    def __init__(self, char, freq):\n",
    "        self.char = char\n",
    "        self.freq = freq\n",
    "        self.left = None\n",
    "        self.right = None\n",
    "\n",
    "    def __gt__(self, other):\n",
    "        if(other == None):\n",
    "            return -1\n",
    "        if(not isinstance(other, HeapNode)):\n",
    "            return -1\n",
    "        return self.freq > other.freq"
   ]
  },
  {
   "cell_type": "code",
   "execution_count": 205,
   "metadata": {},
   "outputs": [],
   "source": [
    "class HuffmanCoding:    \n",
    "\n",
    "    def __init__(self, path, limit=None):\n",
    "        self.path = path\n",
    "        self.heap = []\n",
    "        self.codes = {}\n",
    "        self.reverse_codes = {}\n",
    "        with open(self.path, 'r') as f:\n",
    "            if limit:\n",
    "                self.text = f.read()[:limit].rstrip()\n",
    "            else:\n",
    "                self.text = f.read().rstrip()\n",
    "        self.frequency = self.make_frequency_dict(self.text)\n",
    "        self.make_heap(self.frequency)\n",
    "        self.merge_nodes()\n",
    "        self.make_codes()\n",
    "\n",
    "    # functions for compression:\n",
    "\n",
    "    def make_frequency_dict(self, text):\n",
    "        frequency = Counter()\n",
    "        for c in text: frequency[c] += 1 \n",
    "        return frequency\n",
    "\n",
    "    def make_heap(self, freq_dict):\n",
    "        for l, freq in freq_dict.items():\n",
    "            node = HeapNode(l, freq)\n",
    "            heapq.heappush(self.heap, node)\n",
    "\n",
    "    def merge_nodes(self):\n",
    "        while len(self.heap) > 1:\n",
    "            node1 = heapq.heappop(self.heap)\n",
    "            node2 = heapq.heappop(self.heap)   \n",
    "            merged = HeapNode(None, node1.freq + node2.freq)\n",
    "            merged.left = node1\n",
    "            merged.right = node2\n",
    "            heapq.heappush(self.heap, merged)\n",
    "\n",
    "    def make_codes_helper(self, root, current_code):       \n",
    "        if root is None: return\n",
    "        if root.char is not None:\n",
    "            self.codes[root.char] = current_code\n",
    "            self.reverse_codes[current_code] = root.char\n",
    "            return\n",
    "        self.make_codes_helper(root.left, current_code + '0')\n",
    "        self.make_codes_helper(root.right, current_code + '1')\n",
    "\n",
    "    def make_codes(self):\n",
    "        root = heapq.heappop(self.heap)\n",
    "        current_code = ''\n",
    "        self.make_codes_helper(root, current_code)\n",
    "\n",
    "    def get_encoded_text(self, text):\n",
    "        encoded_text = ''\n",
    "        for c in text:\n",
    "            encoded_text += self.codes[c]\n",
    "        return encoded_text\n",
    "\n",
    "    # make encoded text a multiple of 8 (bytes)\n",
    "    # append the appropriate number of 0s at the end\n",
    "    # & prepend this information as an 8 bits string\n",
    "    def pad_encoded_text(self, encoded_text):        \n",
    "        extra_padding = 8 - len(encoded_text) % 8    # complement of the modulo\n",
    "        encoded_text += '0' * extra_padding          # append modulo_complement zeros at the end\n",
    "        padded_info = '{:08b}'.format(extra_padding) # format: 0 to keep zeros, b for binary\n",
    "        encoded_text = padded_info + encoded_text    # prepend modulo in the form of padding\n",
    "        return encoded_text\n",
    "\n",
    "    def get_byte_array(self, padded_encoded_text):\n",
    "        if len(padded_encoded_text) % 8 != 0:\n",
    "            print('Encoded text not padded properly')\n",
    "            exit(0)\n",
    "        b = bytearray()\n",
    "        for i in range(0, len(padded_encoded_text), 8):\n",
    "            byte = padded_encoded_text[i:i+8]\n",
    "            b.append(int(byte, 2))\n",
    "        return b\n",
    "\n",
    "    def compress(self, limit=None):\n",
    "        filename, file_extension = os.path.splitext(self.path)\n",
    "        output_path = filename + '.bin'\n",
    "\n",
    "        with open(output_path, 'wb') as output:\n",
    "            encoded_text = self.get_encoded_text(self.text)\n",
    "            padded_encoded_text = self.pad_encoded_text(encoded_text)\n",
    "            b = self.get_byte_array(padded_encoded_text)\n",
    "            output.write(bytes(b))\n",
    "\n",
    "        print('Compressed to:', filename+'.bin')\n",
    "        return output_path\n",
    "\n",
    "    # functions for decompression\n",
    "\n",
    "    def remove_padding(self, padded_encoded_text):\n",
    "        padded_info = padded_encoded_text[:8]               # retrieve info\n",
    "        extra_padding = int(padded_info, 2)                 # convert back to int\n",
    "        padded_encoded_text = padded_encoded_text[8:]       # text without info\n",
    "        encoded_text = padded_encoded_text[:-extra_padding] # text without end padding\n",
    "        return encoded_text\n",
    "\n",
    "    def decode_text(self, encoded_text):\n",
    "        current_code = ''\n",
    "        decoded_text = ''\n",
    "        \n",
    "        for bit in encoded_text:\n",
    "            current_code += bit\n",
    "            if current_code in self.reverse_codes:\n",
    "                character = self.reverse_codes[current_code]\n",
    "                decoded_text += character\n",
    "                current_code = ''\n",
    "                \n",
    "        return decoded_text\n",
    "    \n",
    "    def decompress(self, input_path):        \n",
    "        filename, file_extension = os.path.splitext(self.path)\n",
    "        output_path = filename + '_decompressed' + '.txt'\n",
    "        \n",
    "        with open(input_path, 'rb') as f, open(output_path, 'w') as output:\n",
    "            bit_string = ''\n",
    "\n",
    "            byte = f.read(1)\n",
    "            while byte:\n",
    "                byte = ord(byte)\n",
    "                bits = bin(byte)[2:].rjust(8, '0')\n",
    "                bit_string += bits\n",
    "                byte = f.read(1)\n",
    "\n",
    "            encoded_text = self.remove_padding(bit_string)\n",
    "            decompressed_text = self.decode_text(encoded_text)\n",
    "            \n",
    "            output.write(decompressed_text)\n",
    "\n",
    "        print('Decompressed to:', output_path)\n",
    "        return output_path"
   ]
  },
  {
   "cell_type": "markdown",
   "metadata": {},
   "source": [
    "---\n",
    "\n",
    "Testing"
   ]
  },
  {
   "cell_type": "code",
   "execution_count": 206,
   "metadata": {},
   "outputs": [
    {
     "name": "stdout",
     "output_type": "stream",
     "text": [
      "Compressed to: fw.bin\n"
     ]
    },
    {
     "data": {
      "text/plain": [
       "'fw.bin'"
      ]
     },
     "execution_count": 206,
     "metadata": {},
     "output_type": "execute_result"
    }
   ],
   "source": [
    "h = HuffmanCoding('fw.txt')\n",
    "h.compress(limit=50)"
   ]
  },
  {
   "cell_type": "markdown",
   "metadata": {},
   "source": [
    "In the current implementation, it is possible to use an independent instance of `HuffmanCoding` for the decompression process."
   ]
  },
  {
   "cell_type": "code",
   "execution_count": 207,
   "metadata": {},
   "outputs": [
    {
     "name": "stdout",
     "output_type": "stream",
     "text": [
      "Decompressed to: fw_decompressed.txt\n"
     ]
    },
    {
     "data": {
      "text/plain": [
       "'fw_decompressed.txt'"
      ]
     },
     "execution_count": 207,
     "metadata": {},
     "output_type": "execute_result"
    }
   ],
   "source": [
    "u = HuffmanCoding('fw.txt')\n",
    "u.decompress('fw.bin')"
   ]
  },
  {
   "cell_type": "markdown",
   "metadata": {},
   "source": [
    "---\n",
    "\n",
    "Reminder: `rstrip` fn in Python."
   ]
  },
  {
   "cell_type": "code",
   "execution_count": 41,
   "metadata": {},
   "outputs": [
    {
     "name": "stdout",
     "output_type": "stream",
     "text": [
      "Help on method_descriptor:\n",
      "\n",
      "rstrip(...)\n",
      "    S.rstrip([chars]) -> str\n",
      "    \n",
      "    Return a copy of the string S with trailing whitespace removed.\n",
      "    If chars is given and not None, remove characters in chars instead.\n",
      "\n"
     ]
    }
   ],
   "source": [
    "help(str.rstrip)"
   ]
  },
  {
   "cell_type": "markdown",
   "metadata": {},
   "source": [
    "---\n",
    "\n",
    "String formatting: `0` at the start to keep the zeros, `8` for 8 slots, `b` for binary."
   ]
  },
  {
   "cell_type": "code",
   "execution_count": 33,
   "metadata": {},
   "outputs": [
    {
     "name": "stdout",
     "output_type": "stream",
     "text": [
      "00000111\n"
     ]
    }
   ],
   "source": [
    "print('{:08b}'.format(7))"
   ]
  },
  {
   "cell_type": "markdown",
   "metadata": {},
   "source": [
    "---\n",
    "\n",
    "Illustration of the remainder of the modulo."
   ]
  },
  {
   "cell_type": "code",
   "execution_count": 56,
   "metadata": {},
   "outputs": [
    {
     "name": "stdout",
     "output_type": "stream",
     "text": [
      "i: 10 | modulo 8: 2 | remainder: 6\n",
      "i: 11 | modulo 8: 3 | remainder: 5\n",
      "i: 12 | modulo 8: 4 | remainder: 4\n",
      "i: 13 | modulo 8: 5 | remainder: 3\n",
      "i: 14 | modulo 8: 6 | remainder: 2\n",
      "i: 15 | modulo 8: 7 | remainder: 1\n",
      "i: 16 | modulo 8: 0 | remainder: 8\n",
      "i: 17 | modulo 8: 1 | remainder: 7\n",
      "i: 18 | modulo 8: 2 | remainder: 6\n",
      "i: 19 | modulo 8: 3 | remainder: 5\n"
     ]
    }
   ],
   "source": [
    "for i in range(10,20): \n",
    "    print('i: {} | modulo 8: {} | remainder: {}'.format(i, i% 8, 8 - i % 8))"
   ]
  },
  {
   "cell_type": "markdown",
   "metadata": {},
   "source": [
    "---\n",
    "Converting binary string representations to ints"
   ]
  },
  {
   "cell_type": "code",
   "execution_count": 45,
   "metadata": {
    "collapsed": true,
    "jupyter": {
     "outputs_hidden": true
    }
   },
   "outputs": [
    {
     "name": "stdout",
     "output_type": "stream",
     "text": [
      "Help on class int in module builtins:\n",
      "\n",
      "class int(object)\n",
      " |  int(x=0) -> integer\n",
      " |  int(x, base=10) -> integer\n",
      " |  \n",
      " |  Convert a number or string to an integer, or return 0 if no arguments\n",
      " |  are given.  If x is a number, return x.__int__().  For floating point\n",
      " |  numbers, this truncates towards zero.\n",
      " |  \n",
      " |  If x is not a number or if base is given, then x must be a string,\n",
      " |  bytes, or bytearray instance representing an integer literal in the\n",
      " |  given base.  The literal can be preceded by '+' or '-' and be surrounded\n",
      " |  by whitespace.  The base defaults to 10.  Valid bases are 0 and 2-36.\n",
      " |  Base 0 means to interpret the base from the string as an integer literal.\n",
      " |  >>> int('0b100', base=0)\n",
      " |  4\n",
      " |  \n",
      " |  Methods defined here:\n",
      " |  \n",
      " |  __abs__(self, /)\n",
      " |      abs(self)\n",
      " |  \n",
      " |  __add__(self, value, /)\n",
      " |      Return self+value.\n",
      " |  \n",
      " |  __and__(self, value, /)\n",
      " |      Return self&value.\n",
      " |  \n",
      " |  __bool__(self, /)\n",
      " |      self != 0\n",
      " |  \n",
      " |  __ceil__(...)\n",
      " |      Ceiling of an Integral returns itself.\n",
      " |  \n",
      " |  __divmod__(self, value, /)\n",
      " |      Return divmod(self, value).\n",
      " |  \n",
      " |  __eq__(self, value, /)\n",
      " |      Return self==value.\n",
      " |  \n",
      " |  __float__(self, /)\n",
      " |      float(self)\n",
      " |  \n",
      " |  __floor__(...)\n",
      " |      Flooring an Integral returns itself.\n",
      " |  \n",
      " |  __floordiv__(self, value, /)\n",
      " |      Return self//value.\n",
      " |  \n",
      " |  __format__(...)\n",
      " |      default object formatter\n",
      " |  \n",
      " |  __ge__(self, value, /)\n",
      " |      Return self>=value.\n",
      " |  \n",
      " |  __getattribute__(self, name, /)\n",
      " |      Return getattr(self, name).\n",
      " |  \n",
      " |  __getnewargs__(...)\n",
      " |  \n",
      " |  __gt__(self, value, /)\n",
      " |      Return self>value.\n",
      " |  \n",
      " |  __hash__(self, /)\n",
      " |      Return hash(self).\n",
      " |  \n",
      " |  __index__(self, /)\n",
      " |      Return self converted to an integer, if self is suitable for use as an index into a list.\n",
      " |  \n",
      " |  __int__(self, /)\n",
      " |      int(self)\n",
      " |  \n",
      " |  __invert__(self, /)\n",
      " |      ~self\n",
      " |  \n",
      " |  __le__(self, value, /)\n",
      " |      Return self<=value.\n",
      " |  \n",
      " |  __lshift__(self, value, /)\n",
      " |      Return self<<value.\n",
      " |  \n",
      " |  __lt__(self, value, /)\n",
      " |      Return self<value.\n",
      " |  \n",
      " |  __mod__(self, value, /)\n",
      " |      Return self%value.\n",
      " |  \n",
      " |  __mul__(self, value, /)\n",
      " |      Return self*value.\n",
      " |  \n",
      " |  __ne__(self, value, /)\n",
      " |      Return self!=value.\n",
      " |  \n",
      " |  __neg__(self, /)\n",
      " |      -self\n",
      " |  \n",
      " |  __new__(*args, **kwargs) from builtins.type\n",
      " |      Create and return a new object.  See help(type) for accurate signature.\n",
      " |  \n",
      " |  __or__(self, value, /)\n",
      " |      Return self|value.\n",
      " |  \n",
      " |  __pos__(self, /)\n",
      " |      +self\n",
      " |  \n",
      " |  __pow__(self, value, mod=None, /)\n",
      " |      Return pow(self, value, mod).\n",
      " |  \n",
      " |  __radd__(self, value, /)\n",
      " |      Return value+self.\n",
      " |  \n",
      " |  __rand__(self, value, /)\n",
      " |      Return value&self.\n",
      " |  \n",
      " |  __rdivmod__(self, value, /)\n",
      " |      Return divmod(value, self).\n",
      " |  \n",
      " |  __repr__(self, /)\n",
      " |      Return repr(self).\n",
      " |  \n",
      " |  __rfloordiv__(self, value, /)\n",
      " |      Return value//self.\n",
      " |  \n",
      " |  __rlshift__(self, value, /)\n",
      " |      Return value<<self.\n",
      " |  \n",
      " |  __rmod__(self, value, /)\n",
      " |      Return value%self.\n",
      " |  \n",
      " |  __rmul__(self, value, /)\n",
      " |      Return value*self.\n",
      " |  \n",
      " |  __ror__(self, value, /)\n",
      " |      Return value|self.\n",
      " |  \n",
      " |  __round__(...)\n",
      " |      Rounding an Integral returns itself.\n",
      " |      Rounding with an ndigits argument also returns an integer.\n",
      " |  \n",
      " |  __rpow__(self, value, mod=None, /)\n",
      " |      Return pow(value, self, mod).\n",
      " |  \n",
      " |  __rrshift__(self, value, /)\n",
      " |      Return value>>self.\n",
      " |  \n",
      " |  __rshift__(self, value, /)\n",
      " |      Return self>>value.\n",
      " |  \n",
      " |  __rsub__(self, value, /)\n",
      " |      Return value-self.\n",
      " |  \n",
      " |  __rtruediv__(self, value, /)\n",
      " |      Return value/self.\n",
      " |  \n",
      " |  __rxor__(self, value, /)\n",
      " |      Return value^self.\n",
      " |  \n",
      " |  __sizeof__(...)\n",
      " |      Returns size in memory, in bytes\n",
      " |  \n",
      " |  __str__(self, /)\n",
      " |      Return str(self).\n",
      " |  \n",
      " |  __sub__(self, value, /)\n",
      " |      Return self-value.\n",
      " |  \n",
      " |  __truediv__(self, value, /)\n",
      " |      Return self/value.\n",
      " |  \n",
      " |  __trunc__(...)\n",
      " |      Truncating an Integral returns itself.\n",
      " |  \n",
      " |  __xor__(self, value, /)\n",
      " |      Return self^value.\n",
      " |  \n",
      " |  bit_length(...)\n",
      " |      int.bit_length() -> int\n",
      " |      \n",
      " |      Number of bits necessary to represent self in binary.\n",
      " |      >>> bin(37)\n",
      " |      '0b100101'\n",
      " |      >>> (37).bit_length()\n",
      " |      6\n",
      " |  \n",
      " |  conjugate(...)\n",
      " |      Returns self, the complex conjugate of any int.\n",
      " |  \n",
      " |  from_bytes(...) from builtins.type\n",
      " |      int.from_bytes(bytes, byteorder, *, signed=False) -> int\n",
      " |      \n",
      " |      Return the integer represented by the given array of bytes.\n",
      " |      \n",
      " |      The bytes argument must be a bytes-like object (e.g. bytes or bytearray).\n",
      " |      \n",
      " |      The byteorder argument determines the byte order used to represent the\n",
      " |      integer.  If byteorder is 'big', the most significant byte is at the\n",
      " |      beginning of the byte array.  If byteorder is 'little', the most\n",
      " |      significant byte is at the end of the byte array.  To request the native\n",
      " |      byte order of the host system, use `sys.byteorder' as the byte order value.\n",
      " |      \n",
      " |      The signed keyword-only argument indicates whether two's complement is\n",
      " |      used to represent the integer.\n",
      " |  \n",
      " |  to_bytes(...)\n",
      " |      int.to_bytes(length, byteorder, *, signed=False) -> bytes\n",
      " |      \n",
      " |      Return an array of bytes representing an integer.\n",
      " |      \n",
      " |      The integer is represented using length bytes.  An OverflowError is\n",
      " |      raised if the integer is not representable with the given number of\n",
      " |      bytes.\n",
      " |      \n",
      " |      The byteorder argument determines the byte order used to represent the\n",
      " |      integer.  If byteorder is 'big', the most significant byte is at the\n",
      " |      beginning of the byte array.  If byteorder is 'little', the most\n",
      " |      significant byte is at the end of the byte array.  To request the native\n",
      " |      byte order of the host system, use `sys.byteorder' as the byte order value.\n",
      " |      \n",
      " |      The signed keyword-only argument determines whether two's complement is\n",
      " |      used to represent the integer.  If signed is False and a negative integer\n",
      " |      is given, an OverflowError is raised.\n",
      " |  \n",
      " |  ----------------------------------------------------------------------\n",
      " |  Data descriptors defined here:\n",
      " |  \n",
      " |  denominator\n",
      " |      the denominator of a rational number in lowest terms\n",
      " |  \n",
      " |  imag\n",
      " |      the imaginary part of a complex number\n",
      " |  \n",
      " |  numerator\n",
      " |      the numerator of a rational number in lowest terms\n",
      " |  \n",
      " |  real\n",
      " |      the real part of a complex number\n",
      "\n"
     ]
    }
   ],
   "source": [
    "help(int)"
   ]
  },
  {
   "cell_type": "code",
   "execution_count": 53,
   "metadata": {},
   "outputs": [
    {
     "name": "stdout",
     "output_type": "stream",
     "text": [
      "0\n",
      "1\n",
      "2\n",
      "3\n",
      "4\n",
      "5\n",
      "6\n",
      "7\n"
     ]
    }
   ],
   "source": [
    "print(int('000', 2))\n",
    "print(int('001', 2))\n",
    "print(int('010', 2))\n",
    "print(int('011', 2))\n",
    "print(int('100', 2))\n",
    "print(int('101', 2))\n",
    "print(int('110', 2))\n",
    "print(int('111', 2))"
   ]
  },
  {
   "cell_type": "markdown",
   "metadata": {},
   "source": [
    "---\n",
    "\n",
    "Reminder: `ord()` fn."
   ]
  },
  {
   "cell_type": "code",
   "execution_count": 83,
   "metadata": {},
   "outputs": [
    {
     "name": "stdout",
     "output_type": "stream",
     "text": [
      "Help on built-in function ord in module builtins:\n",
      "\n",
      "ord(c, /)\n",
      "    Return the Unicode code point for a one-character string.\n",
      "\n"
     ]
    }
   ],
   "source": [
    "help(ord)"
   ]
  },
  {
   "cell_type": "code",
   "execution_count": 86,
   "metadata": {},
   "outputs": [
    {
     "name": "stdout",
     "output_type": "stream",
     "text": [
      "32\n",
      "97\n",
      "98\n",
      "99\n"
     ]
    }
   ],
   "source": [
    "print(ord(' '))\n",
    "print(ord('a'))\n",
    "print(ord('b'))\n",
    "print(ord('c'))"
   ]
  },
  {
   "cell_type": "code",
   "execution_count": 137,
   "metadata": {},
   "outputs": [
    {
     "name": "stdout",
     "output_type": "stream",
     "text": [
      "Help on method_descriptor:\n",
      "\n",
      "rjust(...)\n",
      "    S.rjust(width[, fillchar]) -> str\n",
      "    \n",
      "    Return S right-justified in a string of length width. Padding is\n",
      "    done using the specified fill character (default is a space).\n",
      "\n"
     ]
    }
   ],
   "source": [
    "help(str.rjust)"
   ]
  },
  {
   "cell_type": "code",
   "execution_count": 157,
   "metadata": {},
   "outputs": [
    {
     "name": "stdout",
     "output_type": "stream",
     "text": [
      "0b1000\n",
      "0b1010\n",
      "0b1100\n"
     ]
    }
   ],
   "source": [
    "print(bin(8).rjust(6, '0'))\n",
    "print(bin(10).rjust(6, '0'))\n",
    "print(bin(12).rjust(6, '0'))"
   ]
  },
  {
   "cell_type": "code",
   "execution_count": 144,
   "metadata": {},
   "outputs": [
    {
     "name": "stdout",
     "output_type": "stream",
     "text": [
      "0b1000\n",
      "1000\n"
     ]
    }
   ],
   "source": [
    "print(bin(8))\n",
    "print(bin(8)[2:])"
   ]
  },
  {
   "cell_type": "markdown",
   "metadata": {},
   "source": [
    "---\n",
    "\n",
    "Manually testing padding."
   ]
  },
  {
   "cell_type": "code",
   "execution_count": 179,
   "metadata": {},
   "outputs": [],
   "source": [
    "def pad(txt):        \n",
    "    print('string before:', txt)\n",
    "    pad = 8 - len(txt) % 8       # complement of the modulo\n",
    "    print('end padding (pad): {} times 0: {}'.format(pad,'0'*pad))\n",
    "    txt += '0' * pad             # append modulo_complement zeros at the end\n",
    "    info = '{:08b}'.format(pad)  # format: 0 to keep zeros, b for binary\n",
    "    print('start padding (info):', info)  # info: pad turned into binary representation\n",
    "    print('(which is {} as a byte (8 bits): {:>08})'.format(pad, bin(pad)[2:]).rjust(8, '0'))\n",
    "    txt = info + txt             # prepend modulo in the form of padding\n",
    "    print('string after:', txt)\n",
    "    print('--------------')"
   ]
  },
  {
   "cell_type": "code",
   "execution_count": 180,
   "metadata": {},
   "outputs": [
    {
     "name": "stdout",
     "output_type": "stream",
     "text": [
      "string before: 111\n",
      "end padding (pad): 5 times 0: 00000\n",
      "start padding (info): 00000101\n",
      "(which is 5 as a byte (8 bits): 00000101)\n",
      "string after: 0000010111100000\n",
      "--------------\n",
      "string before: 1110\n",
      "end padding (pad): 4 times 0: 0000\n",
      "start padding (info): 00000100\n",
      "(which is 4 as a byte (8 bits): 00000100)\n",
      "string after: 0000010011100000\n",
      "--------------\n"
     ]
    }
   ],
   "source": [
    "pad('111')\n",
    "pad('1110')"
   ]
  },
  {
   "cell_type": "markdown",
   "metadata": {},
   "source": [
    "Now removing padding."
   ]
  },
  {
   "cell_type": "code",
   "execution_count": 190,
   "metadata": {},
   "outputs": [],
   "source": [
    "def unpad(padded_encoded_text):\n",
    "    padded_info = padded_encoded_text[:8]               # retrieve info\n",
    "    extra_padding = int(padded_info, 2)                 # convert back to int\n",
    "    print('info: {}, which is {} as an int'.format(padded_info, extra_padding))\n",
    "    print('text before:', padded_encoded_text)\n",
    "    padded_encoded_text = padded_encoded_text[8:]       # text without info\n",
    "    encoded_text = padded_encoded_text[:-extra_padding] # text without end padding\n",
    "    print('text after:', encoded_text)  \n",
    "    print('------------------')"
   ]
  },
  {
   "cell_type": "code",
   "execution_count": 191,
   "metadata": {},
   "outputs": [
    {
     "name": "stdout",
     "output_type": "stream",
     "text": [
      "info: 00000101, which is 5 as an int\n",
      "text before: 0000010111100000\n",
      "text after: 111\n",
      "------------------\n",
      "info: 00000100, which is 4 as an int\n",
      "text before: 0000010011100000\n",
      "text after: 1110\n",
      "------------------\n"
     ]
    }
   ],
   "source": [
    "unpad('0000010111100000')\n",
    "unpad('0000010011100000')"
   ]
  },
  {
   "cell_type": "markdown",
   "metadata": {},
   "source": [
    "---\n",
    "\n",
    "Manually testing compression"
   ]
  },
  {
   "cell_type": "code",
   "execution_count": 199,
   "metadata": {},
   "outputs": [
    {
     "name": "stdout",
     "output_type": "stream",
     "text": [
      "text: The Restored Finnegans Wake\n",
      "frequency dict: [('T', 1), ('h', 1), ('e', 5), (' ', 3), ('R', 1), ('s', 2), ('t', 1), ('o', 1), ('r', 1), ('d', 1), ('F', 1), ('i', 1), ('n', 3), ('g', 1), ('a', 2), ('W', 1), ('k', 1)]\n",
      "encoded text: 11100101010001010110001001111011100111010001100001010111101000110110011110100001110010101101110001111100\n",
      "with padding: 000010001110010101000101011000100111101110011101000110000101011110100011011001111010000111001010110111000111110000000000\n"
     ]
    }
   ],
   "source": [
    "with open('fw.txt') as f:\n",
    "    txt = f.read()[3:30]\n",
    "    print('text:', txt)\n",
    "    h = HuffmanCoding('fw.txt')\n",
    "    frq_dict = h.make_frequency_dict(txt)\n",
    "    print('frequency dict:', list(frq_dict.items()))\n",
    "    h.make_heap(frq_dict)\n",
    "    h.merge_nodes()\n",
    "    h.make_codes()\n",
    "    enc = h.get_encoded_text(txt)\n",
    "    print('encoded text:', enc)\n",
    "    print('with padding:', h.pad_encoded_text(enc))"
   ]
  },
  {
   "cell_type": "markdown",
   "metadata": {},
   "source": [
    "---\n",
    "\n",
    "Manually testing decompression."
   ]
  },
  {
   "cell_type": "code",
   "execution_count": 202,
   "metadata": {},
   "outputs": [
    {
     "name": "stdout",
     "output_type": "stream",
     "text": [
      "decoding byte: b'\\x07'\n",
      "\tord: 7\n",
      "\tbits: 00000111\n",
      "\tbit string: 00000111\n",
      "\n",
      "decoding byte: b'\\xb6'\n",
      "\tord: 182\n",
      "\tbits: 10110110\n",
      "\tbit string: 0000011110110110\n",
      "\n",
      "decoding byte: b'\\xf9'\n",
      "\tord: 249\n",
      "\tbits: 11111001\n",
      "\tbit string: 000001111011011011111001\n",
      "\n",
      "decoding byte: b'\\xec'\n",
      "\tord: 236\n",
      "\tbits: 11101100\n",
      "\tbit string: 00000111101101101111100111101100\n",
      "\n",
      "decoding byte: b'\\xef'\n",
      "\tord: 239\n",
      "\tbits: 11101111\n",
      "\tbit string: 0000011110110110111110011110110011101111\n",
      "\n",
      "decoding byte: b'\\xe2'\n",
      "\tord: 226\n",
      "\tbits: 11100010\n",
      "\tbit string: 000001111011011011111001111011001110111111100010\n",
      "\n",
      "decoding byte: b'\\xef'\n",
      "\tord: 239\n",
      "\tbits: 11101111\n",
      "\tbit string: 00000111101101101111100111101100111011111110001011101111\n",
      "\n",
      "decoding byte: b'A'\n",
      "\tord: 65\n",
      "\tbits: 01000001\n",
      "\tbit string: 0000011110110110111110011110110011101111111000101110111101000001\n",
      "\n",
      "decoding byte: b'5'\n",
      "\tord: 53\n",
      "\tbits: 00110101\n",
      "\tbit string: 000001111011011011111001111011001110111111100010111011110100000100110101\n",
      "\n",
      "decoding byte: b'\\xe3'\n",
      "\tord: 227\n",
      "\tbits: 11100011\n",
      "\tbit string: 00000111101101101111100111101100111011111110001011101111010000010011010111100011\n",
      "\n",
      "decoding byte: b'7'\n",
      "\tord: 55\n",
      "\tbits: 00110111\n",
      "\tbit string: 0000011110110110111110011110110011101111111000101110111101000001001101011110001100110111\n",
      "\n",
      "decoding byte: b'2'\n",
      "\tord: 50\n",
      "\tbits: 00110010\n",
      "\tbit string: 000001111011011011111001111011001110111111100010111011110100000100110101111000110011011100110010\n",
      "\n",
      "decoding byte: b'|'\n",
      "\tord: 124\n",
      "\tbits: 01111100\n",
      "\tbit string: 00000111101101101111100111101100111011111110001011101111010000010011010111100011001101110011001001111100\n",
      "\n",
      "decoding byte: b'\\xf8'\n",
      "\tord: 248\n",
      "\tbits: 11111000\n",
      "\tbit string: 0000011110110110111110011110110011101111111000101110111101000001001101011110001100110111001100100111110011111000\n",
      "\n",
      "decoding byte: b'\\xbc'\n",
      "\tord: 188\n",
      "\tbits: 10111100\n",
      "\tbit string: 000001111011011011111001111011001110111111100010111011110100000100110101111000110011011100110010011111001111100010111100\n",
      "\n",
      "decoding byte: b'W'\n",
      "\tord: 87\n",
      "\tbits: 01010111\n",
      "\tbit string: 00000111101101101111100111101100111011111110001011101111010000010011010111100011001101110011001001111100111110001011110001010111\n",
      "\n",
      "decoding byte: b'd'\n",
      "\tord: 100\n",
      "\tbits: 01100100\n",
      "\tbit string: 0000011110110110111110011110110011101111111000101110111101000001001101011110001100110111001100100111110011111000101111000101011101100100\n",
      "\n",
      "decoding byte: b'\\xb6'\n",
      "\tord: 182\n",
      "\tbits: 10110110\n",
      "\tbit string: 000001111011011011111001111011001110111111100010111011110100000100110101111000110011011100110010011111001111100010111100010101110110010010110110\n",
      "\n",
      "decoding byte: b'\\xda'\n",
      "\tord: 218\n",
      "\tbits: 11011010\n",
      "\tbit string: 00000111101101101111100111101100111011111110001011101111010000010011010111100011001101110011001001111100111110001011110001010111011001001011011011011010\n",
      "\n",
      "decoding byte: b'\\x1a'\n",
      "\tord: 26\n",
      "\tbits: 00011010\n",
      "\tbit string: 0000011110110110111110011110110011101111111000101110111101000001001101011110001100110111001100100111110011111000101111000101011101100100101101101101101000011010\n",
      "\n",
      "decoding byte: b'\\x98'\n",
      "\tord: 152\n",
      "\tbits: 10011000\n",
      "\tbit string: 000001111011011011111001111011001110111111100010111011110100000100110101111000110011011100110010011111001111100010111100010101110110010010110110110110100001101010011000\n",
      "\n",
      "decoding byte: b'\\x01'\n",
      "\tord: 1\n",
      "\tbits: 00000001\n",
      "\tbit string: 00000111101101101111100111101100111011111110001011101111010000010011010111100011001101110011001001111100111110001011110001010111011001001011011011011010000110101001100000000001\n",
      "\n",
      "decoding byte: b'0'\n",
      "\tord: 48\n",
      "\tbits: 00110000\n",
      "\tbit string: 0000011110110110111110011110110011101111111000101110111101000001001101011110001100110111001100100111110011111000101111000101011101100100101101101101101000011010100110000000000100110000\n",
      "\n",
      "decoding byte: b'\\xfc'\n",
      "\tord: 252\n",
      "\tbits: 11111100\n",
      "\tbit string: 000001111011011011111001111011001110111111100010111011110100000100110101111000110011011100110010011111001111100010111100010101110110010010110110110110100001101010011000000000010011000011111100\n",
      "\n",
      "decoding byte: b'\\x87'\n",
      "\tord: 135\n",
      "\tbits: 10000111\n",
      "\tbit string: 00000111101101101111100111101100111011111110001011101111010000010011010111100011001101110011001001111100111110001011110001010111011001001011011011011010000110101001100000000001001100001111110010000111\n",
      "\n",
      "decoding byte: b']'\n",
      "\tord: 93\n",
      "\tbits: 01011101\n",
      "\tbit string: 0000011110110110111110011110110011101111111000101110111101000001001101011110001100110111001100100111110011111000101111000101011101100100101101101101101000011010100110000000000100110000111111001000011101011101\n",
      "\n",
      "decoding byte: b'\\x80'\n",
      "\tord: 128\n",
      "\tbits: 10000000\n",
      "\tbit string: 000001111011011011111001111011001110111111100010111011110100000100110101111000110011011100110010011111001111100010111100010101110110010010110110110110100001101010011000000000010011000011111100100001110101110110000000\n",
      "\n"
     ]
    }
   ],
   "source": [
    "with open('fw.bin', 'rb') as f:\n",
    "    bit_string = \"\"\n",
    "    byte = f.read(1)\n",
    "    while byte:\n",
    "        print('decoding byte:', byte)\n",
    "        byte = ord(byte)\n",
    "        print('\\tord:', byte)\n",
    "        bits = bin(byte)[2:].rjust(8, '0')\n",
    "        print('\\tbits:', bits)\n",
    "        bit_string += bits\n",
    "        print('\\tbit string:', bit_string)\n",
    "        byte = f.read(1)\n",
    "        print()"
   ]
  }
 ],
 "metadata": {
  "kernelspec": {
   "display_name": "Python 3",
   "language": "python",
   "name": "python3"
  },
  "language_info": {
   "codemirror_mode": {
    "name": "ipython",
    "version": 3
   },
   "file_extension": ".py",
   "mimetype": "text/x-python",
   "name": "python",
   "nbconvert_exporter": "python",
   "pygments_lexer": "ipython3",
   "version": "3.6.9"
  }
 },
 "nbformat": 4,
 "nbformat_minor": 4
}
