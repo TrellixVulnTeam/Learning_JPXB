{
 "cells": [
  {
   "cell_type": "markdown",
   "metadata": {},
   "source": [
    "# Trie Study\n",
    "\n",
    "An enquiry into the [Trie](https://en.wikipedia.org/wiki/Trie) data structure, as well as its more space-optimised version, the [DAFSA or DAWG](https://en.wikipedia.org/wiki/Deterministic_acyclic_finite_state_automaton).  \n",
    "\n",
    "![Trie](1024px-Trie_example.png)\n",
    "Testing implementations proposals found here: https://stackoverflow.com/a/11016430."
   ]
  },
  {
   "cell_type": "code",
   "execution_count": 19,
   "metadata": {},
   "outputs": [],
   "source": [
    "def make_trie(*words, _end='_end'):\n",
    "    root = dict()\n",
    "    for word in words:\n",
    "        current_dict = root\n",
    "        for letter in word:\n",
    "            current_dict = current_dict.setdefault(letter, {})\n",
    "        current_dict[_end] = _end\n",
    "    return root"
   ]
  },
  {
   "cell_type": "code",
   "execution_count": 28,
   "metadata": {},
   "outputs": [
    {
     "data": {
      "text/plain": [
       "{'b': {'l': {'a': {'h': {'_end': '_end',\n",
       "     's': {'m': {'_end': '_end'}},\n",
       "     'b': {'l': {'a': {'h': {'t': {'o': {'r': {'_end': '_end'}}}}}}}}}}},\n",
       " 'd': {'i': {'b': {'l': {'a': {'h': {'_end': '_end'}}}},\n",
       "   'g': {'a': {'m': {'m': {'a': {'_end': '_end'}}}}}}}}"
      ]
     },
     "execution_count": 28,
     "metadata": {},
     "output_type": "execute_result"
    }
   ],
   "source": [
    "make_trie('blah', 'diblah', 'blahsm', 'digamma', 'blahblahtor')"
   ]
  },
  {
   "cell_type": "code",
   "execution_count": 16,
   "metadata": {},
   "outputs": [],
   "source": [
    "def make_trie_test(*words, _end='_end'):\n",
    "    root = dict()\n",
    "    for word in words:\n",
    "        print('at word:', word)\n",
    "        current_dict = root\n",
    "        for letter in word:\n",
    "            print('at letter:', letter)\n",
    "            '''\n",
    "            The .setdefault method adds both arguments if the key ('letter') is not in the dictionary\n",
    "            *and returns* the second argument! (If it finds the key, it returns its value.) \n",
    "            That means that 'current_dict' will become {} at each iteration of the loop, the new level\n",
    "            on which the new .setdict will perform its search, thereby creating \n",
    "            a recursive pattern (embedded dictionaries). As the returned object is part of current_dict,\n",
    "            itself at first root (not deep copies of it), we are in fact filling root as we go along.\n",
    "            '''\n",
    "            current_dict = current_dict.setdefault(letter, {}) \n",
    "        current_dict[_end] = _end\n",
    "        print(root)\n",
    "        print('-'*40)\n",
    "    return root"
   ]
  },
  {
   "cell_type": "code",
   "execution_count": 17,
   "metadata": {
    "scrolled": true
   },
   "outputs": [
    {
     "name": "stdout",
     "output_type": "stream",
     "text": [
      "at word: cat\n",
      "at letter: c\n",
      "at letter: a\n",
      "at letter: t\n",
      "{'c': {'a': {'t': {'_end': '_end'}}}}\n",
      "----------------------------------------\n",
      "at word: cats\n",
      "at letter: c\n",
      "at letter: a\n",
      "at letter: t\n",
      "at letter: s\n",
      "{'c': {'a': {'t': {'_end': '_end', 's': {'_end': '_end'}}}}}\n",
      "----------------------------------------\n",
      "at word: catty\n",
      "at letter: c\n",
      "at letter: a\n",
      "at letter: t\n",
      "at letter: t\n",
      "at letter: y\n",
      "{'c': {'a': {'t': {'_end': '_end', 's': {'_end': '_end'}, 't': {'y': {'_end': '_end'}}}}}}\n",
      "----------------------------------------\n"
     ]
    },
    {
     "data": {
      "text/plain": [
       "{'c': {'a': {'t': {'_end': '_end',\n",
       "    's': {'_end': '_end'},\n",
       "    't': {'y': {'_end': '_end'}}}}}}"
      ]
     },
     "execution_count": 17,
     "metadata": {},
     "output_type": "execute_result"
    }
   ],
   "source": [
    "make_trie_test('cat', 'cats', 'catty')"
   ]
  },
  {
   "cell_type": "markdown",
   "metadata": {},
   "source": [
    "A demo of the attribution mechanism, why `firstdict` stores the values even when `seconddict` is systematically reassigned to the latest {} (a trick possible because the dictionary returned by `setdefault` is not a deep copy, but a pointer to the existing (sub)dict in question, meaning that throughout our loop we keep modifying the dictionary we created first. "
   ]
  },
  {
   "cell_type": "code",
   "execution_count": 18,
   "metadata": {
    "scrolled": true
   },
   "outputs": [
    {
     "name": "stdout",
     "output_type": "stream",
     "text": [
      "{'reblah': 'gggblah'}\n",
      "{'reblah': 'gggblah', 'blah': {}}\n",
      "{'reblah': 'gggblah', 'blah': {'diblah': {}}}\n",
      "{'reblah': 'gggblah', 'blah': {'diblah': {'rediblah': {}}}}\n",
      "\n"
     ]
    }
   ],
   "source": [
    "firstdict = dict()\n",
    "seconddict = firstdict\n",
    "\n",
    "seconddict[\"reblah\"] = \"gggblah\"\n",
    "print(firstdict)\n",
    "seconddict = seconddict.setdefault(\"blah\", {})\n",
    "print(firstdict)\n",
    "seconddict = seconddict.setdefault(\"diblah\", {})\n",
    "print(firstdict)\n",
    "seconddict = seconddict.setdefault(\"rediblah\", {})\n",
    "print(firstdict)\n",
    "print()"
   ]
  },
  {
   "cell_type": "markdown",
   "metadata": {},
   "source": [
    "The testing function."
   ]
  },
  {
   "cell_type": "code",
   "execution_count": 26,
   "metadata": {},
   "outputs": [],
   "source": [
    "def in_trie(trie, word, _end='_end'):\n",
    "    current_dict = trie\n",
    "    for letter in word:\n",
    "        if letter in current_dict:\n",
    "            # move down one level (into nested dict)\n",
    "            current_dict = current_dict[letter]\n",
    "        else:\n",
    "            return False\n",
    "    else: # once at the end of our word, check if _end is present\n",
    "        if _end in current_dict:\n",
    "            return True\n",
    "        else:\n",
    "            return False"
   ]
  },
  {
   "cell_type": "code",
   "execution_count": 30,
   "metadata": {},
   "outputs": [
    {
     "name": "stdout",
     "output_type": "stream",
     "text": [
      "False\n",
      "True\n",
      "False\n"
     ]
    }
   ],
   "source": [
    "test = make_trie('blah', 'diblah', 'blahsm', 'digamma', 'blahblahtor')\n",
    "print(in_trie(test,'bla'))\n",
    "print(in_trie(test,'blah'))\n",
    "print(in_trie(test, 'blahs'))"
   ]
  },
  {
   "cell_type": "markdown",
   "metadata": {},
   "source": [
    "----"
   ]
  },
  {
   "cell_type": "markdown",
   "metadata": {},
   "source": [
    "The more classic way of doing it, described on [Wikipedia](https://en.m.wikipedia.org/wiki/Trie)."
   ]
  },
  {
   "cell_type": "code",
   "execution_count": 49,
   "metadata": {},
   "outputs": [],
   "source": [
    "class Node():\n",
    "    def __init__(self):  \n",
    "        '''\n",
    "        Note that using dictionary for children (as in this implementation) \n",
    "        would not allow lexicographic sorting mentioned in the next section (Sorting),\n",
    "        because ordinary dictionary would not preserve the order of the keys\n",
    "        '''\n",
    "        self.children = {}  # mapping from character ==> Node\n",
    "        self.value = None\n",
    "    \n",
    "class Trie():\n",
    "    \n",
    "    def __init__(self):\n",
    "        self.root = Node()\n",
    "        \n",
    "    def find(self, key):\n",
    "        node = self.root\n",
    "        for char in key:\n",
    "            if char in node.children:\n",
    "                node = node.children[char]\n",
    "            else:\n",
    "                print('not found')\n",
    "                return None\n",
    "        else:\n",
    "            if node.value is not None: print('in trie!')\n",
    "            else: print('not found')\n",
    "\n",
    "    def insert(self, string, value='_end'):\n",
    "        node = self.root\n",
    "        i = 0\n",
    "        while i < len(string):\n",
    "            if string[i] in node.children:\n",
    "                node = node.children[string[i]]\n",
    "                i += 1\n",
    "            else:\n",
    "                break\n",
    "\n",
    "        # append new nodes for the remaining characters, if any\n",
    "        while i < len(string):\n",
    "            node.children[string[i]] = Node() # create new node\n",
    "            node = node.children[string[i]]   # switch current node to it\n",
    "            i += 1\n",
    "\n",
    "        # store value in the terminal node\n",
    "        node.value = value"
   ]
  },
  {
   "cell_type": "code",
   "execution_count": 50,
   "metadata": {},
   "outputs": [
    {
     "name": "stdout",
     "output_type": "stream",
     "text": [
      "in trie!\n",
      "not found\n"
     ]
    }
   ],
   "source": [
    "trie_test = Trie()\n",
    "trie_test.insert(\"blah\")\n",
    "trie_test.find('blah')\n",
    "trie_test.find('bla')"
   ]
  },
  {
   "cell_type": "markdown",
   "metadata": {},
   "source": [
    "A list of professional implementations for further research, found [here](https://stackoverflow.com/a/21303098):\n",
    "\n",
    " - [marisa-trie][1] - a C++ based implementation.\n",
    " - [python-trie][2] - a simple pure python implementation.\n",
    " - [PyTrie][3] - a more advanced pure python implementation.\n",
    " - [pygtrie][4] - a pure python implementation by Google.\n",
    " - [datrie][5] - a double array trie implementation based on [libdatrie][6].\n",
    "\n",
    "\n",
    "  [1]: https://pypi.python.org/pypi/marisa-trie/\n",
    "  [2]: https://github.com/bdimmick/python-trie\n",
    "  [3]: https://pypi.python.org/pypi/PyTrie\n",
    "  [4]: https://github.com/google/pygtrie\n",
    "  [5]: https://pypi.org/project/datrie/\n",
    "  [6]: https://linux.thai.net/~thep/datrie/datrie.html"
   ]
  }
 ],
 "metadata": {
  "kernelspec": {
   "display_name": "Python 3",
   "language": "python",
   "name": "python3"
  },
  "language_info": {
   "codemirror_mode": {
    "name": "ipython",
    "version": 3
   },
   "file_extension": ".py",
   "mimetype": "text/x-python",
   "name": "python",
   "nbconvert_exporter": "python",
   "pygments_lexer": "ipython3",
   "version": "3.6.9"
  }
 },
 "nbformat": 4,
 "nbformat_minor": 4
}
