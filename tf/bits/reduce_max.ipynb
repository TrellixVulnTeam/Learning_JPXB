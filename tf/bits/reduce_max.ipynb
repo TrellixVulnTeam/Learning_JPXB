{
 "cells": [
  {
   "cell_type": "markdown",
   "metadata": {},
   "source": [
    "Some simple exercise after encountering 'reduce_max' in GPT-2, cf. [this video](https://www.aiworkbox.com/lessons/calculate-max-of-a-tensor-along-an-axis-using-tensorflow).\n",
    "\n",
    "The [TF reference](https://www.tensorflow.org/api_docs/python/tf/math/reduce_max)."
   ]
  },
  {
   "cell_type": "code",
   "execution_count": 1,
   "metadata": {},
   "outputs": [],
   "source": [
    "import tensorflow as tf"
   ]
  },
  {
   "cell_type": "code",
   "execution_count": 2,
   "metadata": {},
   "outputs": [],
   "source": [
    "tf.enable_eager_execution()"
   ]
  },
  {
   "cell_type": "code",
   "execution_count": 3,
   "metadata": {},
   "outputs": [],
   "source": [
    "rand = tf.get_variable(\"rand\",\n",
    "                      initializer=tf.random_uniform([2,3,4],\n",
    "                                                   minval=0,\n",
    "                                                   maxval=20,\n",
    "                                                   dtype=tf.int32))"
   ]
  },
  {
   "cell_type": "code",
   "execution_count": 4,
   "metadata": {},
   "outputs": [
    {
     "data": {
      "text/plain": [
       "<tf.Variable 'rand:0' shape=(2, 3, 4) dtype=int32, numpy=\n",
       "array([[[15, 14,  1,  5],\n",
       "        [19,  1,  0,  1],\n",
       "        [ 0, 18,  9,  0]],\n",
       "\n",
       "       [[10, 19, 18, 18],\n",
       "        [17, 16,  5,  3],\n",
       "        [ 9, 18, 11, 13]]], dtype=int32)>"
      ]
     },
     "execution_count": 4,
     "metadata": {},
     "output_type": "execute_result"
    }
   ],
   "source": [
    "rand"
   ]
  },
  {
   "cell_type": "code",
   "execution_count": 12,
   "metadata": {},
   "outputs": [
    {
     "data": {
      "text/plain": [
       "<tf.Tensor: id=46, shape=(), dtype=int32, numpy=19>"
      ]
     },
     "execution_count": 12,
     "metadata": {},
     "output_type": "execute_result"
    }
   ],
   "source": [
    "# without argument, we simply get the max integer\n",
    "tf.reduce_max(rand)"
   ]
  },
  {
   "cell_type": "code",
   "execution_count": 17,
   "metadata": {},
   "outputs": [
    {
     "data": {
      "text/plain": [
       "<tf.Tensor: id=74, shape=(3, 4), dtype=int32, numpy=\n",
       "array([[15, 19, 18, 18],\n",
       "       [19, 16,  5,  3],\n",
       "       [ 9, 18, 11, 13]], dtype=int32)>"
      ]
     },
     "execution_count": 17,
     "metadata": {},
     "output_type": "execute_result"
    }
   ],
   "source": [
    "# compares the two 3x4 matrices pointwise, keeps the max element\n",
    "tf.reduce_max(rand, axis=[0])"
   ]
  },
  {
   "cell_type": "code",
   "execution_count": 7,
   "metadata": {},
   "outputs": [
    {
     "data": {
      "text/plain": [
       "<tf.Tensor: id=20, shape=(2, 4), dtype=int32, numpy=\n",
       "array([[19, 18,  9,  5],\n",
       "       [17, 19, 18, 18]], dtype=int32)>"
      ]
     },
     "execution_count": 7,
     "metadata": {},
     "output_type": "execute_result"
    }
   ],
   "source": [
    "# compares each 3x4 matrix 'internally'/'columnwise' (squish rows, taking the max of each column)\n",
    "tf.reduce_max(rand, axis=[1])"
   ]
  },
  {
   "cell_type": "code",
   "execution_count": 9,
   "metadata": {},
   "outputs": [
    {
     "data": {
      "text/plain": [
       "<tf.Tensor: id=28, shape=(2, 3), dtype=int32, numpy=\n",
       "array([[15, 19, 18],\n",
       "       [19, 17, 18]], dtype=int32)>"
      ]
     },
     "execution_count": 9,
     "metadata": {},
     "output_type": "execute_result"
    }
   ],
   "source": [
    "# compares each 3x4 matrix 'internally'/'rowwise' (squish columns, taking the max of each row)\n",
    "tf.reduce_max(rand,axis=[2])"
   ]
  },
  {
   "cell_type": "markdown",
   "metadata": {},
   "source": [
    "---"
   ]
  },
  {
   "cell_type": "code",
   "execution_count": 10,
   "metadata": {},
   "outputs": [
    {
     "data": {
      "text/plain": [
       "<tf.Variable 'rand:0' shape=(2, 3, 4) dtype=int32, numpy=\n",
       "array([[[15, 14,  1,  5],\n",
       "        [19,  1,  0,  1],\n",
       "        [ 0, 18,  9,  0]],\n",
       "\n",
       "       [[10, 19, 18, 18],\n",
       "        [17, 16,  5,  3],\n",
       "        [ 9, 18, 11, 13]]], dtype=int32)>"
      ]
     },
     "execution_count": 10,
     "metadata": {},
     "output_type": "execute_result"
    }
   ],
   "source": [
    "rand"
   ]
  },
  {
   "cell_type": "code",
   "execution_count": 14,
   "metadata": {},
   "outputs": [
    {
     "data": {
      "text/plain": [
       "<tf.Tensor: id=62, shape=(1, 1, 1), dtype=int32, numpy=array([[[19]]], dtype=int32)>"
      ]
     },
     "execution_count": 14,
     "metadata": {},
     "output_type": "execute_result"
    }
   ],
   "source": [
    "# keepdims keeps the dims\n",
    "tf.reduce_max(rand, keepdims=True)"
   ]
  },
  {
   "cell_type": "code",
   "execution_count": 18,
   "metadata": {},
   "outputs": [
    {
     "data": {
      "text/plain": [
       "<tf.Tensor: id=78, shape=(2, 3, 1), dtype=int32, numpy=\n",
       "array([[[15],\n",
       "        [19],\n",
       "        [18]],\n",
       "\n",
       "       [[19],\n",
       "        [17],\n",
       "        [18]]], dtype=int32)>"
      ]
     },
     "execution_count": 18,
     "metadata": {},
     "output_type": "execute_result"
    }
   ],
   "source": [
    "tf.reduce_max(rand,\n",
    "              axis=[2],\n",
    "              keepdims=True)"
   ]
  }
 ],
 "metadata": {
  "kernelspec": {
   "display_name": "Python 3",
   "language": "python",
   "name": "python3"
  },
  "language_info": {
   "codemirror_mode": {
    "name": "ipython",
    "version": 3
   },
   "file_extension": ".py",
   "mimetype": "text/x-python",
   "name": "python",
   "nbconvert_exporter": "python",
   "pygments_lexer": "ipython3",
   "version": "3.6.7"
  }
 },
 "nbformat": 4,
 "nbformat_minor": 2
}
