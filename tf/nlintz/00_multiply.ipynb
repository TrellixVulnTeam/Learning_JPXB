{
 "cells": [
  {
   "cell_type": "code",
   "execution_count": 1,
   "metadata": {},
   "outputs": [],
   "source": [
    "import tensorflow as tf"
   ]
  },
  {
   "cell_type": "markdown",
   "metadata": {},
   "source": [
    "Tensorflow references for:  \n",
    "- [tf.Variable](https://www.tensorflow.org/api_docs/python/tf/Variable)\n",
    "- [the variables guide](https://www.tensorflow.org/guide/variables)"
   ]
  },
  {
   "cell_type": "code",
   "execution_count": 5,
   "metadata": {},
   "outputs": [],
   "source": [
    "a = tf.Variable(0, dtype=float) # Create a symbolic variable 'a'\n",
    "b = tf.Variable(0, dtype=float) # Create a symbolic variable 'b'\n",
    "\n",
    "y = tf.multiply(a, b) # multiply the symbolic variables\n",
    "z = tf.add(a, b)"
   ]
  },
  {
   "cell_type": "code",
   "execution_count": 6,
   "metadata": {
    "scrolled": true
   },
   "outputs": [
    {
     "name": "stdout",
     "output_type": "stream",
     "text": [
      "2.000000 should equal 2.0\n",
      "9.000000 should equal 9.0\n",
      "3.000000 should equal 3.0\n",
      "6.000000 should equal 6.0\n"
     ]
    }
   ],
   "source": [
    "with tf.Session() as sess: # create a session to evaluate the symbolic expressions\n",
    "    print(\"%f should equal 2.0\" % sess.run(y, feed_dict={a: 1, b: 2})) # eval expressions with parameters for a and b\n",
    "    print(\"%f should equal 9.0\" % sess.run(y, feed_dict={a: 3, b: 3}))\n",
    "    print(\"%f should equal 3.0\" % sess.run(z, feed_dict={a: 1, b: 2})) # eval expressions with parameters for a and b\n",
    "    print(\"%f should equal 6.0\" % sess.run(z, feed_dict={a: 3, b: 3}))"
   ]
  }
 ],
 "metadata": {
  "kernelspec": {
   "display_name": "Python 3",
   "language": "python",
   "name": "python3"
  },
  "language_info": {
   "codemirror_mode": {
    "name": "ipython",
    "version": 3
   },
   "file_extension": ".py",
   "mimetype": "text/x-python",
   "name": "python",
   "nbconvert_exporter": "python",
   "pygments_lexer": "ipython3",
   "version": "3.6.6"
  }
 },
 "nbformat": 4,
 "nbformat_minor": 1
}
