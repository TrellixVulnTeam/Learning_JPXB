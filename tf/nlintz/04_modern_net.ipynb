{
 "cells": [
  {
   "cell_type": "code",
   "execution_count": 1,
   "metadata": {
    "scrolled": true
   },
   "outputs": [],
   "source": [
    "# import os\n",
    "# for item in sorted(os.listdir()):\n",
    "#     print(item)"
   ]
  },
  {
   "cell_type": "code",
   "execution_count": 1,
   "metadata": {},
   "outputs": [],
   "source": [
    "import tensorflow as tf\n",
    "import numpy as np\n",
    "import matplotlib.pyplot as plt"
   ]
  },
  {
   "cell_type": "code",
   "execution_count": 3,
   "metadata": {},
   "outputs": [],
   "source": [
    "# tf.enable_eager_execution()"
   ]
  },
  {
   "cell_type": "markdown",
   "metadata": {},
   "source": [
    "---"
   ]
  },
  {
   "cell_type": "markdown",
   "metadata": {},
   "source": [
    "Original version"
   ]
  },
  {
   "cell_type": "code",
   "execution_count": null,
   "metadata": {},
   "outputs": [],
   "source": [
    "# from tensorflow.examples.tutorials.mnist import input_data"
   ]
  },
  {
   "cell_type": "code",
   "execution_count": 49,
   "metadata": {},
   "outputs": [
    {
     "name": "stdout",
     "output_type": "stream",
     "text": [
      "Extracting MNIST_data/train-images-idx3-ubyte.gz\n",
      "Extracting MNIST_data/train-labels-idx1-ubyte.gz\n",
      "Extracting MNIST_data/t10k-images-idx3-ubyte.gz\n",
      "Extracting MNIST_data/t10k-labels-idx1-ubyte.gz\n"
     ]
    }
   ],
   "source": [
    "# def init_weights(shape):\n",
    "#     return tf.Variable(tf.random_normal(shape, stddev=0.01))\n",
    "\n",
    "# def model(X, w_h, w_h2, w_o, p_keep_input, p_keep_hidden): \n",
    "#     # this network is the same as the previous one except with an extra hidden layer + dropout\n",
    "#     # dropout means we randomly deactivate certain neurons and force the network to keep\n",
    "#     # doing its job\n",
    "#     # p_keep_input and p_keep_hidden are the probabilities of cells being preserved\n",
    "    \n",
    "#     X = tf.nn.dropout(X, p_keep_input)\n",
    "#     h = tf.nn.relu(tf.matmul(X, w_h))\n",
    "\n",
    "#     h = tf.nn.dropout(h, p_keep_hidden)\n",
    "#     h2 = tf.nn.relu(tf.matmul(h, w_h2))\n",
    "\n",
    "#     h2 = tf.nn.dropout(h2, p_keep_hidden)\n",
    "\n",
    "#     return tf.matmul(h2, w_o)\n",
    "\n",
    "# mnist = input_data.read_data_sets(\"MNIST_data/\", one_hot=True)\n",
    "# trX, trY, teX, teY = mnist.train.images, mnist.train.labels, mnist.test.images, mnist.test.labels"
   ]
  },
  {
   "cell_type": "code",
   "execution_count": 43,
   "metadata": {},
   "outputs": [],
   "source": [
    "# X = tf.placeholder(\"float\", [None, 784])\n",
    "# Y = tf.placeholder(\"float\", [None, 10])\n",
    "\n",
    "# w_h = init_weights([784, 625])\n",
    "# w_h2 = init_weights([625, 625])\n",
    "# w_o = init_weights([625, 10])\n",
    "\n",
    "# p_keep_input = tf.placeholder(\"float\")\n",
    "# p_keep_hidden = tf.placeholder(\"float\")\n",
    "# py_x = model(X, w_h, w_h2, w_o, p_keep_input, p_keep_hidden)\n",
    "\n",
    "# cost = tf.reduce_mean(tf.nn.softmax_cross_entropy_with_logits_v2(logits=py_x, labels=Y))\n",
    "# train_op = tf.train.RMSPropOptimizer(0.001, 0.9).minimize(cost)\n",
    "# predict_op = tf.argmax(py_x, 1)"
   ]
  },
  {
   "cell_type": "code",
   "execution_count": 45,
   "metadata": {},
   "outputs": [
    {
     "name": "stdout",
     "output_type": "stream",
     "text": [
      "0 0.9302\n",
      "1 0.963\n",
      "2 0.9702\n",
      "3 0.9724\n",
      "4 0.9737\n"
     ]
    }
   ],
   "source": [
    "# # Launch the graph in a session\n",
    "# with tf.Session() as sess:\n",
    "#     # you need to initialize all variables\n",
    "#     tf.global_variables_initializer().run()\n",
    "\n",
    "#     for i in range(5):\n",
    "#         for start, end in zip(range(0, len(trX), 128), range(128, len(trX)+1, 128)):\n",
    "#             sess.run(train_op, feed_dict={X: trX[start:end], Y: trY[start:end],\n",
    "#                                           p_keep_input: 0.8, p_keep_hidden: 0.5})\n",
    "#         print(i, np.mean(np.argmax(teY, axis=1) ==\n",
    "#                          sess.run(predict_op, feed_dict={X: teX, Y: teY,\n",
    "#                                                          p_keep_input: 1.0,\n",
    "#                                                          p_keep_hidden: 1.0})))"
   ]
  },
  {
   "cell_type": "markdown",
   "metadata": {},
   "source": [
    "---"
   ]
  },
  {
   "cell_type": "markdown",
   "metadata": {},
   "source": [
    "Reworked version"
   ]
  },
  {
   "cell_type": "code",
   "execution_count": 2,
   "metadata": {},
   "outputs": [],
   "source": [
    "tf.reset_default_graph()"
   ]
  },
  {
   "cell_type": "code",
   "execution_count": 3,
   "metadata": {},
   "outputs": [],
   "source": [
    "# To avoid the deprecation warning when importing MNIST, trying the Keras method found here:\n",
    "# https://www.tensorflow.org/tutorials/\n",
    "mnist = tf.keras.datasets.mnist\n",
    "(x_train, y_train),(x_test, y_test) = mnist.load_data()\n",
    "x_train, x_test = x_train / 255.0, x_test / 255.0"
   ]
  },
  {
   "cell_type": "code",
   "execution_count": 4,
   "metadata": {},
   "outputs": [],
   "source": [
    "trX = tf.reshape(x_train, [-1, 784])\n",
    "trY = tf.one_hot(y_train, 10)\n",
    "teX = tf.reshape(x_test, [-1, 784])\n",
    "teY = tf.one_hot(y_test, 10)"
   ]
  },
  {
   "cell_type": "code",
   "execution_count": 5,
   "metadata": {},
   "outputs": [],
   "source": [
    "def init_weights(shape):\n",
    "    return tf.Variable(tf.random_normal(shape, stddev=0.01))"
   ]
  },
  {
   "cell_type": "code",
   "execution_count": 6,
   "metadata": {},
   "outputs": [],
   "source": [
    "# Input & output\n",
    "X = tf.placeholder(\"float\", [None, 784])\n",
    "Y = tf.placeholder(\"float\", [None, 10])\n",
    "\n",
    "# Dropout for input layer, for hidden layers\n",
    "dropout_in = tf.placeholder(\"float\")\n",
    "dropout_h = tf.placeholder(\"float\")"
   ]
  },
  {
   "cell_type": "code",
   "execution_count": 7,
   "metadata": {},
   "outputs": [],
   "source": [
    "# Must start with 784 (pixels) and end with 10 (classes)\n",
    "layers = [784, 425, 310, 200, 10]\n",
    "\n",
    "weights = []\n",
    "for i in range(len(layers[:-1])):\n",
    "    w_i = init_weights([layers[i], layers[i+1]])\n",
    "    weights.append(w_i)"
   ]
  },
  {
   "cell_type": "code",
   "execution_count": 8,
   "metadata": {},
   "outputs": [
    {
     "name": "stdout",
     "output_type": "stream",
     "text": [
      "(784, 425)\n",
      "(425, 310)\n",
      "(310, 200)\n",
      "(200, 10)\n"
     ]
    }
   ],
   "source": [
    "for weight in weights:\n",
    "    print(weight.shape)"
   ]
  },
  {
   "cell_type": "code",
   "execution_count": 9,
   "metadata": {
    "scrolled": true
   },
   "outputs": [],
   "source": [
    "def model(X, weights, dropout_in, dropout_h):\n",
    "    \n",
    "    current_layer = X\n",
    "    current_layer = tf.nn.dropout(current_layer, dropout_in)\n",
    "    \n",
    "    for i, weights_i in enumerate(weights[:-1]):\n",
    "        h = tf.nn.relu(tf.matmul(current_layer, weights_i))\n",
    "        h = tf.nn.dropout(h, dropout_h)\n",
    "        current_layer = h\n",
    "        \n",
    "    return tf.matmul(current_layer, weights[-1])"
   ]
  },
  {
   "cell_type": "code",
   "execution_count": 10,
   "metadata": {},
   "outputs": [],
   "source": [
    "py_x = model(X, weights, dropout_in, dropout_h)\n",
    "\n",
    "cost = tf.reduce_mean(tf.nn.softmax_cross_entropy_with_logits_v2(logits=py_x, labels=Y))\n",
    "# train_op = tf.train.RMSPropOptimizer(0.001, 0.9).minimize(cost)\n",
    "train_op = tf.train.AdamOptimizer(0.001).minimize(cost)\n",
    "predict_op = tf.argmax(py_x, 1)"
   ]
  },
  {
   "cell_type": "code",
   "execution_count": 11,
   "metadata": {
    "scrolled": true
   },
   "outputs": [
    {
     "name": "stdout",
     "output_type": "stream",
     "text": [
      "Iteration: 0 | Cost: 0.32928622 | Accuracy: 0.9366\n",
      "Iteration: 2 | Cost: 0.2056875 | Accuracy: 0.9666\n",
      "Iteration: 4 | Cost: 0.17500618 | Accuracy: 0.9727\n",
      "Iteration: 6 | Cost: 0.15877767 | Accuracy: 0.9744\n",
      "Iteration: 8 | Cost: 0.15470918 | Accuracy: 0.9766\n",
      "Iteration: 10 | Cost: 0.14889982 | Accuracy: 0.9794\n",
      "Iteration: 12 | Cost: 0.14470638 | Accuracy: 0.9795\n",
      "Iteration: 14 | Cost: 0.15630338 | Accuracy: 0.9799\n",
      "Iteration: 16 | Cost: 0.14514285 | Accuracy: 0.9804\n",
      "Iteration: 18 | Cost: 0.13551044 | Accuracy: 0.9822\n"
     ]
    },
    {
     "data": {
      "text/plain": [
       "Text(0,1,'Accuracy')"
      ]
     },
     "execution_count": 11,
     "metadata": {},
     "output_type": "execute_result"
    },
    {
     "data": {
      "image/png": "[encoded data removed]",
      "text/plain": [
       "<Figure size 432x288 with 2 Axes>"
      ]
     },
     "metadata": {
      "needs_background": "light"
     },
     "output_type": "display_data"
    }
   ],
   "source": [
    "# Launch the graph in a session\n",
    "with tf.Session() as sess:\n",
    "    tf.global_variables_initializer().run()\n",
    "    \n",
    "    trX = trX.eval()\n",
    "    trY = trY.eval()\n",
    "    teX = teX.eval()\n",
    "    teY = teY.eval()\n",
    "    \n",
    "    cost_evolution = []\n",
    "    accuracy_evolution = []\n",
    "    \n",
    "    for i in range(20):\n",
    "        for start, end in zip(range(0, len(trX), 128), range(128, len(trX)+1, 128)):\n",
    "            \n",
    "            sess.run(train_op, feed_dict={X: trX[start:end], \n",
    "                                          Y: trY[start:end],\n",
    "                                          dropout_in: 0.8, \n",
    "                                          dropout_h: 0.5})\n",
    "            \n",
    "        if i % 2 == 0:\n",
    "            cost_i = sess.run(cost, feed_dict = {X: teX,\n",
    "                                                 Y: teY,\n",
    "                                                 dropout_in:0.8,\n",
    "                                                 dropout_h: 0.5})\n",
    "            cost_evolution.append((i, cost_i))\n",
    "            \n",
    "            acc_i = np.mean(np.argmax(teY, axis=1) == \n",
    "                            sess.run(predict_op, feed_dict= {X: teX,\n",
    "                                                             Y: teY,\n",
    "                                                             dropout_in: 1.0,\n",
    "                                                             dropout_h: 1.0}))\n",
    "            accuracy_evolution.append((i, acc_i))\n",
    "                    \n",
    "            print('Iteration:', i, '| Cost:', cost_i,'| Accuracy:', acc_i)\n",
    "\n",
    "#Creates two subplots for the cost and accuracy\n",
    "fig, (ax1, ax2) = plt.subplots(2, 1, sharex=True)\n",
    "plt.subplots_adjust(hspace=0.4)\n",
    "ax1.plot(*zip(*cost_evolution))\n",
    "ax1.set_title('Cost', loc='left')\n",
    "ax2.set_xlabel('Iterations')\n",
    "ax2.plot(*zip(*accuracy_evolution))\n",
    "ax2.set_title('Accuracy', loc='left')"
   ]
  }
 ],
 "metadata": {
  "kernelspec": {
   "display_name": "Python 3",
   "language": "python",
   "name": "python3"
  },
  "language_info": {
   "codemirror_mode": {
    "name": "ipython",
    "version": 3
   },
   "file_extension": ".py",
   "mimetype": "text/x-python",
   "name": "python",
   "nbconvert_exporter": "python",
   "pygments_lexer": "ipython3",
   "version": "3.6.6"
  }
 },
 "nbformat": 4,
 "nbformat_minor": 1
}
