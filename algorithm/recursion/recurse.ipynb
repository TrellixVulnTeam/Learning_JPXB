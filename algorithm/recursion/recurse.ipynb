{
 "cells": [
  {
   "cell_type": "markdown",
   "metadata": {},
   "source": [
    "# Recursion fiddles"
   ]
  },
  {
   "cell_type": "code",
   "execution_count": 48,
   "metadata": {},
   "outputs": [],
   "source": [
    "def F1(a=2, b=3):\n",
    "    print('entered F1, a: {} | b: {}'.format(a, b))\n",
    "    if (b == 0): \n",
    "        print('reached the end, a: {} | b: {} | returning 1'.format(a, b))\n",
    "        return 1\n",
    "    x = F1(a,b-1)\n",
    "    print('just recursed, x = a: {} * F1(a, b-1): {} = {}'.format(a, x, a*x))\n",
    "    x = a * x\n",
    "    return x"
   ]
  },
  {
   "cell_type": "code",
   "execution_count": 49,
   "metadata": {},
   "outputs": [
    {
     "name": "stdout",
     "output_type": "stream",
     "text": [
      "entered F1, a: 2 | b: 3\n",
      "entered F1, a: 2 | b: 2\n",
      "entered F1, a: 2 | b: 1\n",
      "entered F1, a: 2 | b: 0\n",
      "reached the end, a: 2 | b: 0 | returning 1\n",
      "just recursed, x = a: 2 * F1(a, b-1): 1 = 2\n",
      "just recursed, x = a: 2 * F1(a, b-1): 2 = 4\n",
      "just recursed, x = a: 2 * F1(a, b-1): 4 = 8\n"
     ]
    },
    {
     "data": {
      "text/plain": [
       "8"
      ]
     },
     "execution_count": 49,
     "metadata": {},
     "output_type": "execute_result"
    }
   ],
   "source": [
    "F1(2,3)"
   ]
  },
  {
   "cell_type": "code",
   "execution_count": 46,
   "metadata": {},
   "outputs": [],
   "source": [
    "def F2(A=[2,3,5], N=3):\n",
    "    if (N == 0):\n",
    "        print('reached the end, A: {} | N: {} | returning 0'.format(A, N))\n",
    "        return 0\n",
    "    x = F2(A, N-1)\n",
    "    AA = A[N-1]\n",
    "    sum_x_a = x + AA\n",
    "    print('just recursed, F2(A, N-1): {} | index: {} | A[N-1]: {} | Sum: {}'.format(x, N-1, AA, sum_x_a))\n",
    "    return sum_x_a"
   ]
  },
  {
   "cell_type": "code",
   "execution_count": 47,
   "metadata": {},
   "outputs": [
    {
     "name": "stdout",
     "output_type": "stream",
     "text": [
      "reached the end, A: [2, 3, 5] | N: 0 | returning 0\n",
      "just recursed, F2(A, N-1): 0 | index: 0 | A[N-1]: 2 | Sum: 2\n",
      "just recursed, F2(A, N-1): 2 | index: 1 | A[N-1]: 3 | Sum: 5\n",
      "just recursed, F2(A, N-1): 5 | index: 2 | A[N-1]: 5 | Sum: 10\n"
     ]
    },
    {
     "data": {
      "text/plain": [
       "10"
      ]
     },
     "execution_count": 47,
     "metadata": {},
     "output_type": "execute_result"
    }
   ],
   "source": [
    "F2([2,3,5], 3)"
   ]
  },
  {
   "cell_type": "code",
   "execution_count": 69,
   "metadata": {},
   "outputs": [],
   "source": [
    "def F3(A=[12,3,5], N=3):\n",
    "    print('entered F3, A: {} | N: {}'.format(A, N))\n",
    "    if (N==1):\n",
    "        print('reached the end, returning A[0]:', A[0])\n",
    "        return A[0]\n",
    "    x = F3(A, N-1)\n",
    "    if x < A[N-1]:\n",
    "        print('just recursed, N-1: {} | F3(A, N-1): {:2} < A[N-1]: {:2} -> returning the former'.format(N-1, x, A[N-1]))\n",
    "        return x\n",
    "    print('just recursed, N-1: {} | F3(A, N-1): {:2} > A[N-1]: {:2} -> returning the latter'.format(N-1, x, A[N-1]))\n",
    "    return A[N-1]"
   ]
  },
  {
   "cell_type": "code",
   "execution_count": 70,
   "metadata": {},
   "outputs": [
    {
     "name": "stdout",
     "output_type": "stream",
     "text": [
      "entered F3, A: [2, 12, 3, 5] | N: 3\n",
      "entered F3, A: [2, 12, 3, 5] | N: 2\n",
      "entered F3, A: [2, 12, 3, 5] | N: 1\n",
      "reached the end, returning A[0]: 2\n",
      "just recursed, N-1: 1 | F3(A, N-1):  2 < A[N-1]: 12 -> returning the former\n",
      "just recursed, N-1: 2 | F3(A, N-1):  2 < A[N-1]:  3 -> returning the former\n"
     ]
    },
    {
     "data": {
      "text/plain": [
       "2"
      ]
     },
     "execution_count": 70,
     "metadata": {},
     "output_type": "execute_result"
    }
   ],
   "source": [
    "F3([2,12,3,5], 3)"
   ]
  },
  {
   "cell_type": "code",
   "execution_count": 107,
   "metadata": {},
   "outputs": [],
   "source": [
    "def F4(A=[12,3,5], low=0, high=2):\n",
    "    if (high-low == 1):\n",
    "        print('reaching the end, high: {} | low: {} | A[high]: {} | A[low]: {}'.format(high, low, A[high], A[low]))\n",
    "        if (A[low] < A[high]):\n",
    "            print('returning smaller one: A[low]:', A[low])\n",
    "            print()\n",
    "            return A[low]\n",
    "        else:\n",
    "            print('returning smaller or equal one: A[high]:', A[high])   \n",
    "            print()\n",
    "            return A[high]\n",
    "    if (low == high):\n",
    "        print('reaching the end, both indices equal (low {} == high {}), returning: A[high]: {}'.format(low, high, A[high]))\n",
    "        print()\n",
    "        return A[high]\n",
    "    mid = low + (high-low)//2\n",
    "    print('about to recurse, old high {} | new high (mid): {}'.format(high, mid))\n",
    "    a = F4(A, low, mid)\n",
    "    b = F4(A, mid+1, high)\n",
    "    if (a > b): \n",
    "        print('just recursed: a (min low-mid): {} > b (min mid+1-high): {}, returning the latter'.format(a, b))        \n",
    "        return b    \n",
    "    print('just recursed: a {} <= b: {}, returning the former'.format(a, b))            \n",
    "    return a"
   ]
  },
  {
   "cell_type": "code",
   "execution_count": 108,
   "metadata": {},
   "outputs": [
    {
     "name": "stdout",
     "output_type": "stream",
     "text": [
      "about to recurse, old high 6 | new high (mid): 3\n",
      "about to recurse, old high 3 | new high (mid): 1\n",
      "reaching the end, high: 1 | low: 0 | A[high]: 3 | A[low]: 3\n",
      "returning smaller or equal one: A[high]: 3\n",
      "\n",
      "reaching the end, high: 3 | low: 2 | A[high]: 1 | A[low]: 12\n",
      "returning smaller or equal one: A[high]: 1\n",
      "\n",
      "just recursed: a (min low-mid): 3 > b (min mid+1-high): 1, returning the latter\n",
      "about to recurse, old high 6 | new high (mid): 5\n",
      "reaching the end, high: 5 | low: 4 | A[high]: 2 | A[low]: 10\n",
      "returning smaller or equal one: A[high]: 2\n",
      "\n",
      "reaching the end, both indices equal (low 6 == high 6), returning: A[high]: 0\n",
      "\n",
      "just recursed: a (min low-mid): 2 > b (min mid+1-high): 0, returning the latter\n",
      "just recursed: a (min low-mid): 1 > b (min mid+1-high): 0, returning the latter\n"
     ]
    },
    {
     "data": {
      "text/plain": [
       "0"
      ]
     },
     "execution_count": 108,
     "metadata": {},
     "output_type": "execute_result"
    }
   ],
   "source": [
    "A = [3,3,12,1,10,2,0]\n",
    "low = 0\n",
    "high = len(A) - 1\n",
    "F4(A, low, high)"
   ]
  },
  {
   "cell_type": "code",
   "execution_count": 113,
   "metadata": {},
   "outputs": [],
   "source": [
    "def R_sum(a, b):\n",
    "    if (b == 0):\n",
    "        print('at the end, b = 0, returning a:', a)\n",
    "        return a\n",
    "    x = R_sum(a, b-1)\n",
    "    print('just recursed, result: {} | returning 1 + result: {}'.format(x, 1+x))\n",
    "    return 1 + x"
   ]
  },
  {
   "cell_type": "code",
   "execution_count": 114,
   "metadata": {},
   "outputs": [
    {
     "name": "stdout",
     "output_type": "stream",
     "text": [
      "at the end, b = 0, returning a: 2\n",
      "just recursed, result: 2 | returning 1 + result: 3\n",
      "just recursed, result: 3 | returning 1 + result: 4\n",
      "just recursed, result: 4 | returning 1 + result: 5\n"
     ]
    },
    {
     "data": {
      "text/plain": [
       "5"
      ]
     },
     "execution_count": 114,
     "metadata": {},
     "output_type": "execute_result"
    }
   ],
   "source": [
    "R_sum(2,3)"
   ]
  },
  {
   "cell_type": "code",
   "execution_count": 115,
   "metadata": {},
   "outputs": [],
   "source": [
    "def R_sub(a, b):\n",
    "    if (b == 0):\n",
    "        print('at the end, b = 0, returning a:', a)\n",
    "        return a\n",
    "    x = R_sub(a, b-1)\n",
    "    print('just recursed, result: {} | returning result - 1: {}'.format(x, x - 1))\n",
    "    return x - 1"
   ]
  },
  {
   "cell_type": "code",
   "execution_count": 117,
   "metadata": {},
   "outputs": [
    {
     "name": "stdout",
     "output_type": "stream",
     "text": [
      "at the end, b = 0, returning a: 2\n",
      "just recursed, result: 2 | returning result - 1: 1\n",
      "just recursed, result: 1 | returning result - 1: 0\n",
      "just recursed, result: 0 | returning result - 1: -1\n",
      "just recursed, result: -1 | returning result - 1: -2\n",
      "just recursed, result: -2 | returning result - 1: -3\n"
     ]
    },
    {
     "data": {
      "text/plain": [
       "-3"
      ]
     },
     "execution_count": 117,
     "metadata": {},
     "output_type": "execute_result"
    }
   ],
   "source": [
    "R_sub(2, 5)"
   ]
  },
  {
   "cell_type": "code",
   "execution_count": 120,
   "metadata": {},
   "outputs": [],
   "source": [
    "def R_show_down(a):\n",
    "    if (a == 0): return\n",
    "    print(a)\n",
    "    R_show_down(a-1)"
   ]
  },
  {
   "cell_type": "code",
   "execution_count": 121,
   "metadata": {},
   "outputs": [
    {
     "name": "stdout",
     "output_type": "stream",
     "text": [
      "3\n",
      "2\n",
      "1\n"
     ]
    }
   ],
   "source": [
    "R_show_down(3)"
   ]
  },
  {
   "cell_type": "code",
   "execution_count": 128,
   "metadata": {},
   "outputs": [],
   "source": [
    "def R_show_up(a):\n",
    "    if (a == 0): return\n",
    "    R_show_up(a - 1)\n",
    "    print(a)"
   ]
  },
  {
   "cell_type": "code",
   "execution_count": 129,
   "metadata": {},
   "outputs": [
    {
     "name": "stdout",
     "output_type": "stream",
     "text": [
      "1\n",
      "2\n",
      "3\n"
     ]
    }
   ],
   "source": [
    "R_show_up(3)"
   ]
  },
  {
   "cell_type": "code",
   "execution_count": 132,
   "metadata": {},
   "outputs": [],
   "source": [
    "def R_mult(a, b):\n",
    "    if (b == 0):\n",
    "        print('at the end, returning zero')\n",
    "        return 0\n",
    "    x = R_mult(a, b-1)\n",
    "    print('just recursed, result: {} | a + x: {}'.format(x, a+x))\n",
    "    return a + x"
   ]
  },
  {
   "cell_type": "code",
   "execution_count": 133,
   "metadata": {},
   "outputs": [
    {
     "name": "stdout",
     "output_type": "stream",
     "text": [
      "at the end, returning zero\n",
      "just recursed, result: 0 | a + x: 2\n",
      "just recursed, result: 2 | a + x: 4\n",
      "just recursed, result: 4 | a + x: 6\n"
     ]
    },
    {
     "data": {
      "text/plain": [
       "6"
      ]
     },
     "execution_count": 133,
     "metadata": {},
     "output_type": "execute_result"
    }
   ],
   "source": [
    "R_mult(2,3)"
   ]
  },
  {
   "cell_type": "code",
   "execution_count": 146,
   "metadata": {},
   "outputs": [],
   "source": [
    "def R_div(a, b):\n",
    "    if (a < b): \n",
    "        print('a: {} < b: {}, returning zero'.format(a, b))\n",
    "        return 0\n",
    "    if (b == 0):\n",
    "        print('division by zero impossible, returing zero')\n",
    "        return 0\n",
    "    x = R_div(a - b, b)\n",
    "    print('just recursed, a - b: {} / b: {} -> result: {}'.format(a-b, b, x))\n",
    "    return 1 + x"
   ]
  },
  {
   "cell_type": "code",
   "execution_count": 148,
   "metadata": {},
   "outputs": [
    {
     "name": "stdout",
     "output_type": "stream",
     "text": [
      "a: 1 < b: 2, returning zero\n",
      "just recursed, a - b: 1 / b: 2 -> result: 0\n",
      "just recursed, a - b: 3 / b: 2 -> result: 1\n",
      "just recursed, a - b: 5 / b: 2 -> result: 2\n"
     ]
    },
    {
     "data": {
      "text/plain": [
       "3"
      ]
     },
     "execution_count": 148,
     "metadata": {},
     "output_type": "execute_result"
    }
   ],
   "source": [
    "R_div(7,2)"
   ]
  },
  {
   "cell_type": "code",
   "execution_count": 151,
   "metadata": {},
   "outputs": [],
   "source": [
    "def R_mod(a, b):\n",
    "    print('entering R_mod, a: {} | b: {}'.format(a, b))\n",
    "    if (a < b):\n",
    "        print('reached the end, returning a:', a)\n",
    "        return a\n",
    "    return R_mod(a-b, b)"
   ]
  },
  {
   "cell_type": "code",
   "execution_count": 154,
   "metadata": {},
   "outputs": [
    {
     "name": "stdout",
     "output_type": "stream",
     "text": [
      "entering R_mod, a: 35 | b: 10\n",
      "entering R_mod, a: 25 | b: 10\n",
      "entering R_mod, a: 15 | b: 10\n",
      "entering R_mod, a: 5 | b: 10\n",
      "reached the end, returning a: 5\n"
     ]
    },
    {
     "data": {
      "text/plain": [
       "5"
      ]
     },
     "execution_count": 154,
     "metadata": {},
     "output_type": "execute_result"
    }
   ],
   "source": [
    "R_mod(35,10)"
   ]
  }
 ],
 "metadata": {
  "kernelspec": {
   "display_name": "Python 3",
   "language": "python",
   "name": "python3"
  },
  "language_info": {
   "codemirror_mode": {
    "name": "ipython",
    "version": 3
   },
   "file_extension": ".py",
   "mimetype": "text/x-python",
   "name": "python",
   "nbconvert_exporter": "python",
   "pygments_lexer": "ipython3",
   "version": "3.6.9"
  }
 },
 "nbformat": 4,
 "nbformat_minor": 4
}
