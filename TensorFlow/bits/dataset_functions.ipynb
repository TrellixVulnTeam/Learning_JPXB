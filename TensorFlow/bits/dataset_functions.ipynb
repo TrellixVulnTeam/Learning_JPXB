{
 "cells": [
  {
   "cell_type": "code",
   "execution_count": 1,
   "metadata": {},
   "outputs": [],
   "source": [
    "import tensorflow as tf\n",
    "import numpy as np\n",
    "import os"
   ]
  },
  {
   "cell_type": "markdown",
   "metadata": {},
   "source": [
    "# Dataset \n",
    "\n",
    "Fiddling with `tf.data.Dataset`-related things. Presentation page [here](https://www.tensorflow.org/guide/datasets)."
   ]
  },
  {
   "cell_type": "code",
   "execution_count": 2,
   "metadata": {},
   "outputs": [
    {
     "name": "stdout",
     "output_type": "stream",
     "text": [
      "[[0.68676233 0.0086329  0.8658116  0.45277607 0.94584095 0.47857428\n",
      "  0.4139799  0.24188924 0.5272958  0.47962856]\n",
      " [0.9060365  0.0873791  0.9680308  0.14595628 0.59796417 0.12068391\n",
      "  0.04482651 0.8628911  0.8021622  0.4293126 ]\n",
      " [0.1597904  0.52541065 0.40359116 0.23508751 0.48473155 0.0376991\n",
      "  0.04705763 0.86750424 0.71314085 0.25864637]\n",
      " [0.06989145 0.29347718 0.30275798 0.2497195  0.10967302 0.18269348\n",
      "  0.94954455 0.7470466  0.6513107  0.47883558]]\n"
     ]
    }
   ],
   "source": [
    "with tf.Session() as sess:\n",
    "    print(sess.run(tf.random_uniform([4, 10])))"
   ]
  },
  {
   "cell_type": "code",
   "execution_count": 3,
   "metadata": {},
   "outputs": [
    {
     "name": "stdout",
     "output_type": "stream",
     "text": [
      "<dtype: 'float32'>\n",
      "(10,)\n"
     ]
    }
   ],
   "source": [
    "dataset1 = tf.data.Dataset.from_tensor_slices(tf.random_uniform([4, 10]))\n",
    "print(dataset1.output_types)\n",
    "print(dataset1.output_shapes)"
   ]
  },
  {
   "cell_type": "code",
   "execution_count": 4,
   "metadata": {},
   "outputs": [
    {
     "name": "stdout",
     "output_type": "stream",
     "text": [
      "[0.01913965 0.8863044  0.08992255 0.70749855]\n",
      "\n",
      "[[34 71 79 24 61 94 52 20 65 51 59 66 95 47 14 46 40 44 30  7 97 94  7 20\n",
      "  13 13 88 64 90 48 42 60 59 27 76 25 87 95  1 89 49 33 29 13 23 60 44 84\n",
      "  78 27 73 42  0 29 47 76 15 20 69 83 91 23 77 28 60 47 61 99 66 56  9 80\n",
      "  92 60 77 78 56 78 50 45  1 92 25 18 91 50 49 22 75 81 97 47 58 59 96 39\n",
      "   6 80 71 89]\n",
      " [74 75  8 56 76 25 68  6 81 44 31 50 32 40 77 25 92 50 87 93 27 85 25 57\n",
      "  98 89 96 68 42  8 52 26 89 58 54 76 50 69 96 10 77 73 11 60 16  9 13 80\n",
      "  32  9  1 21 45 51 85  2 33 80 34 60 48 80 76 77 22 63 58 30 93 69 90 73\n",
      "   0 45 22 95 87 88 10 96 99  8 16 30 40 12 81 57 21 16 67 62 27 65 56 23\n",
      "  68 67 45 61]\n",
      " [58 98 61 87 38 63 74 49 98  3 30 88 77 17 93 20 41 32 54 84 36 87  2 96\n",
      "  57 92 60 31 23 49 33 99 11 42 35 77  1 39 71 77 70 53 43 66 64 96 42 60\n",
      "  83 40 77 91 96 81 53 67 16  8 72 73 48 71 24  4 64 21 40 44 38 49  2 76\n",
      "  98 17 54 22 51 12 31 92 92 53  1 64 67 94 77 57 89  2 67 25 68 20 80 73\n",
      "  94 93 26 71]\n",
      " [13 64 20 15 89 90 93 46 97 19 80 11 64 82 55 77 35 66 49 96 86 70 15 33\n",
      "  35 38 38 84 42 28 42 71 58 42 57 71 87  7 31 41 21 38 92 97 68 95 43 51\n",
      "  15  2 99 61  7 18 59 92 85 61 14 55 75 44 63 48 34  6 30 24 97 85 83 32\n",
      "  75 42 80 90 44 84  5 75 66 52  6 20 21 41 51 83  7 17 86 24 60 93 47 28\n",
      "  40  7 54 53]]\n"
     ]
    }
   ],
   "source": [
    "with tf.Session() as sess:\n",
    "    print(sess.run(tf.random_uniform([4])), end='\\n\\n')\n",
    "    print(sess.run(tf.random_uniform([4, 100], maxval=100, dtype=tf.int32)))"
   ]
  },
  {
   "cell_type": "code",
   "execution_count": 5,
   "metadata": {},
   "outputs": [
    {
     "name": "stdout",
     "output_type": "stream",
     "text": [
      "(tf.float32, tf.int32)\n",
      "(TensorShape([]), TensorShape([Dimension(100)]))\n"
     ]
    }
   ],
   "source": [
    "dataset2 = tf.data.Dataset.from_tensor_slices(\n",
    "               (\n",
    "                    tf.random_uniform([4]),\n",
    "                    tf.random_uniform([4, 100], \n",
    "                                      maxval=100, \n",
    "                                      dtype=tf.int32)\n",
    "               ))\n",
    "print(dataset2.output_types) \n",
    "print(dataset2.output_shapes) "
   ]
  },
  {
   "cell_type": "code",
   "execution_count": 6,
   "metadata": {},
   "outputs": [
    {
     "name": "stdout",
     "output_type": "stream",
     "text": [
      "(tf.float32, (tf.float32, tf.int32))\n",
      "(TensorShape([Dimension(10)]), (TensorShape([]), TensorShape([Dimension(100)])))\n"
     ]
    }
   ],
   "source": [
    "dataset3 = tf.data.Dataset.zip((dataset1, dataset2))\n",
    "print(dataset3.output_types)  \n",
    "print(dataset3.output_shapes) "
   ]
  },
  {
   "cell_type": "code",
   "execution_count": 7,
   "metadata": {},
   "outputs": [
    {
     "name": "stdout",
     "output_type": "stream",
     "text": [
      "(tf.float32, tf.float32)\n",
      "(TensorShape([Dimension(10)]), TensorShape([Dimension(10)]))\n"
     ]
    }
   ],
   "source": [
    "dataset4 = tf.data.Dataset.zip((dataset1, dataset1))\n",
    "print(dataset4.output_types)  \n",
    "print(dataset4.output_shapes) "
   ]
  },
  {
   "cell_type": "code",
   "execution_count": 8,
   "metadata": {},
   "outputs": [
    {
     "name": "stdout",
     "output_type": "stream",
     "text": [
      "{'a': tf.float32, 'b': tf.int32}\n",
      "{'a': TensorShape([]), 'b': TensorShape([Dimension(100)])}\n"
     ]
    }
   ],
   "source": [
    "dataset5 = tf.data.Dataset.from_tensor_slices(\n",
    "   {\"a\": tf.random_uniform([4]),\n",
    "    \"b\": tf.random_uniform([4, 100], maxval=100, dtype=tf.int32)})\n",
    "print(dataset5.output_types)  \n",
    "print(dataset5.output_shapes) "
   ]
  },
  {
   "cell_type": "markdown",
   "metadata": {},
   "source": [
    "---\n",
    "\n",
    "# Map, Flat_Map, Filter"
   ]
  },
  {
   "cell_type": "code",
   "execution_count": null,
   "metadata": {},
   "outputs": [],
   "source": [
    "dataset1 = dataset1.map(lambda x: ...)\n",
    "\n",
    "dataset2 = dataset2.flat_map(lambda x, y: ...)\n",
    "\n",
    "# Note: Argument destructuring is not available in Python 3.\n",
    "dataset3 = dataset3.filter(lambda x, (y, z): ...)"
   ]
  },
  {
   "cell_type": "markdown",
   "metadata": {},
   "source": [
    "---\n",
    "\n",
    "# Iterators "
   ]
  },
  {
   "cell_type": "markdown",
   "metadata": {},
   "source": [
    "### One-shot\n",
    "The `one_shot` version, the simplest of all, which allows for a pass through all of the elements of the dataset."
   ]
  },
  {
   "cell_type": "code",
   "execution_count": 11,
   "metadata": {},
   "outputs": [
    {
     "name": "stdout",
     "output_type": "stream",
     "text": [
      "[0, 1, 2, 3, 4, 5, 6, 7, 8, 9, 10, 11, 12, 13, 14, 15, 16, 17, 18, 19]\n"
     ]
    }
   ],
   "source": [
    "size = 20\n",
    "dataset6 = tf.data.Dataset.range(size)\n",
    "iterator6 = dataset6.make_one_shot_iterator()\n",
    "\n",
    "with tf.Session() as sess:\n",
    "    values = []\n",
    "    for i in range(size):\n",
    "        value = sess.run(iterator6.get_next())\n",
    "        values.append(value)\n",
    "        assert i == value\n",
    "    print(values)"
   ]
  },
  {
   "cell_type": "code",
   "execution_count": 19,
   "metadata": {},
   "outputs": [
    {
     "name": "stderr",
     "output_type": "stream",
     "text": [
      "/home/default/miniconda3/lib/python3.6/site-packages/tensorflow/python/data/ops/iterator_ops.py:407: UserWarning: An unusually high number of `Iterator.get_next()` calls was detected. This often indicates that `Iterator.get_next()` is being called inside a training loop, which will cause gradual slowdown and eventual resource exhaustion. If this is the case, restructure your code to call `next_element = iterator.get_next()` once outside the loop, and use `next_element` as the input to some computation that is invoked inside the loop.\n",
      "  warnings.warn(GET_NEXT_CALL_WARNING_MESSAGE)\n"
     ]
    },
    {
     "name": "stdout",
     "output_type": "stream",
     "text": [
      "[0, 1, 2, 3, 4, 5, 6, 7, 8, 9, 10, 11, 12, 13, 14, 15, 16, 17, 18, 19]\n"
     ]
    }
   ],
   "source": [
    "# can we be Python-cheeky? Yes! With a warning.\n",
    "size = 20\n",
    "with tf.Session() as sess:\n",
    "    print([sess.run(iterator6.get_next()) for x in range(size)])"
   ]
  },
  {
   "cell_type": "markdown",
   "metadata": {},
   "source": [
    "### Initializable\n",
    "The `initializable` version, which allows for a parametrization of the definition of the dataset. (Using placeholders <> shape size can be left as `None`.)"
   ]
  },
  {
   "cell_type": "code",
   "execution_count": 23,
   "metadata": {},
   "outputs": [
    {
     "name": "stdout",
     "output_type": "stream",
     "text": [
      "[0, 1, 2, 3, 4, 5, 6, 7, 8, 9]\n",
      "[0, 1, 2, 3, 4, 5, 6, 7, 8, 9, 10, 11, 12, 13, 14, 15, 16, 17, 18, 19]\n"
     ]
    }
   ],
   "source": [
    "max_value = tf.placeholder(tf.int64, shape=[]) # used as a parameter in the definition of the dataset\n",
    "dataset7 = tf.data.Dataset.range(max_value)\n",
    "iterator7 = dataset7.make_initializable_iterator()\n",
    "\n",
    "# Initialize an iterator over a dataset with 10 elements.\n",
    "size = 10\n",
    "feed = {max_value: size}\n",
    "with tf.Session() as sess:\n",
    "    \n",
    "    sess.run(iterator7.initializer, feed_dict=feed) # you need to initialize\n",
    "    \n",
    "    values = []\n",
    "    for i in range(size):\n",
    "        value = sess.run(iterator7.get_next())\n",
    "        values.append(value)\n",
    "        assert i == value\n",
    "    print(values)\n",
    "\n",
    "    # Initialize the same iterator over a dataset with 50 elements.\n",
    "    size = 20\n",
    "    \n",
    "    values = []\n",
    "    sess.run(iterator7.initializer, feed_dict={max_value: size})\n",
    "    for i in range(size):\n",
    "        value = sess.run(iterator7.get_next())\n",
    "        values.append(value)\n",
    "        assert i == value\n",
    "    print(values)"
   ]
  },
  {
   "cell_type": "markdown",
   "metadata": {},
   "source": [
    "### Reinitializable \n",
    "\n",
    "The `reinitializable` iterator can be initialized from different `Dataset` objects > you can have two different objects with the same structure (shapes/types), e.g. train & dev sets."
   ]
  },
  {
   "cell_type": "code",
   "execution_count": 62,
   "metadata": {},
   "outputs": [
    {
     "name": "stdout",
     "output_type": "stream",
     "text": [
      "training | epoch 0\n",
      "[-7, 10, 7, -5, 8, 2, 1, 13, 7, 6, 5, 4, 20, 12, 4, 15, 11, 19, 21, 17, 26, 19, 14, 13, 14, 24, 24, 24, 25, 37, 26, 37, 33, 38, 31, 25, 28, 36, 31, 31, 41, 34, 46, 36, 38, 38, 42, 53, 49, 39, 46, 52, 60, 56, 53, 50, 53, 64, 61, 59, 62, 65, 71, 57, 71, 55, 66, 58, 61, 61, 76, 71, 63, 72, 67, 80, 85, 80, 73, 71, 88, 76, 74, 83, 75, 84, 76, 92, 96, 90, 86, 97, 86, 95, 100, 91, 93, 87, 102, 102]\n",
      "\n",
      "validating\n",
      "[0, 1, 2, 3, 4, 5, 6, 7, 8, 9, 10, 11, 12, 13, 14, 15, 16, 17, 18, 19, 20, 21, 22, 23, 24, 25, 26, 27, 28, 29, 30, 31, 32, 33, 34, 35, 36, 37, 38, 39, 40, 41, 42, 43, 44, 45, 46, 47, 48, 49]\n",
      "\n",
      "------------------------------\n",
      "training | epoch 1\n",
      "[-1, -6, -6, 2, -5, -2, 1, -1, 8, 12, 18, 1, 6, 21, 21, 24, 13, 22, 15, 20, 26, 16, 14, 14, 24, 31, 19, 17, 27, 19, 23, 40, 33, 23, 33, 40, 37, 27, 42, 33, 43, 44, 34, 51, 45, 53, 54, 55, 56, 45, 55, 47, 56, 50, 50, 55, 59, 63, 67, 60, 63, 66, 59, 59, 71, 71, 73, 67, 75, 74, 61, 61, 70, 64, 82, 72, 67, 73, 81, 75, 75, 77, 72, 79, 79, 75, 88, 82, 96, 93, 90, 82, 88, 94, 96, 104, 86, 94, 88, 108]\n",
      "\n",
      "validating\n",
      "[0, 1, 2, 3, 4, 5, 6, 7, 8, 9, 10, 11, 12, 13, 14, 15, 16, 17, 18, 19, 20, 21, 22, 23, 24, 25, 26, 27, 28, 29, 30, 31, 32, 33, 34, 35, 36, 37, 38, 39, 40, 41, 42, 43, 44, 45, 46, 47, 48, 49]\n",
      "\n",
      "------------------------------\n"
     ]
    }
   ],
   "source": [
    "training_ds = tf.data.Dataset.range(100).map(\n",
    "                lambda x: x + tf.random_uniform([], -10, 10, tf.int64))\n",
    "validation_ds = tf.data.Dataset.range(50)\n",
    "\n",
    "reiniterator = tf.data.Iterator.from_structure(training_ds.output_types,\n",
    "                                               training_ds.output_shapes)\n",
    "nxt = reiniterator.get_next()\n",
    "\n",
    "tr_init_op = reiniterator.make_initializer(training_ds)\n",
    "val_init_op = reiniterator.make_initializer(validation_ds)\n",
    "\n",
    "epochs = 2\n",
    "with tf.Session() as sess:\n",
    "    for _ in range(epochs):\n",
    "        print('training | epoch {}'.format(_))\n",
    "        sess.run(tr_init_op)\n",
    "        values = []\n",
    "        for _ in range(100):\n",
    "            values.append(sess.run(nxt))\n",
    "        print(values, end='\\n\\n')\n",
    "\n",
    "        print('validating')\n",
    "        sess.run(val_init_op)\n",
    "        values = []\n",
    "        for _ in range(50):\n",
    "            values.append(sess.run(nxt))\n",
    "        print(values, end='\\n\\n')\n",
    "        print('-'*30)"
   ]
  },
  {
   "cell_type": "markdown",
   "metadata": {},
   "source": [
    "### Feedable\n",
    "Can be used together with `tf.placeholder` to select what `Iterator` will be used. Similar to the reinitializable one, but no initialization required from the dataset.\n",
    "\n",
    "---\n",
    "\n",
    "Using [repeat](https://www.tensorflow.org/api_docs/python/tf/data/Dataset#repeat). If no number is specified, the dataset repeats indefinitely."
   ]
  },
  {
   "cell_type": "code",
   "execution_count": 63,
   "metadata": {},
   "outputs": [
    {
     "name": "stdout",
     "output_type": "stream",
     "text": [
      "[0, 1, 2, 3, 4, 5, 6, 7, 8, 9, 0, 1, 2, 3, 4, 5, 6, 7, 8, 9, 0, 1, 2, 3, 4, 5, 6, 7, 8, 9, 0, 1, 2, 3, 4, 5, 6, 7, 8, 9, 0, 1, 2, 3, 4, 5, 6, 7, 8, 9]\n"
     ]
    }
   ],
   "source": [
    "repeat_example = tf.data.Dataset.range(10).repeat()\n",
    "repeat_one_shot = repeat_example.make_one_shot_iterator()\n",
    "repeat_nxt = repeat_one_shot.get_next()\n",
    "with tf.Session() as sess:\n",
    "    values = []\n",
    "    for _ in range(50):\n",
    "        values.append(sess.run(repeat_nxt))\n",
    "    print(values)"
   ]
  },
  {
   "cell_type": "code",
   "execution_count": 69,
   "metadata": {},
   "outputs": [
    {
     "name": "stdout",
     "output_type": "stream",
     "text": [
      "training, epoch 0\n",
      "[0, 1, 4, 9, 16, 25, 36, 49, 64, 81, 0, 1, 4, 9, 16, 25, 36, 49, 64, 81, 0, 1, 4, 9, 16, 25, 36, 49, 64, 81, 0, 1, 4, 9, 16, 25, 36, 49, 64, 81, 0, 1, 4, 9, 16, 25, 36, 49, 64, 81, 0, 1, 4, 9, 16, 25, 36, 49, 64, 81, 0, 1, 4, 9, 16, 25, 36, 49, 64, 81, 0, 1, 4, 9, 16, 25, 36, 49, 64, 81, 0, 1, 4, 9, 16, 25, 36, 49, 64, 81, 0, 1, 4, 9, 16, 25, 36, 49, 64, 81]\n",
      "\n",
      "validating\n",
      "[0, 1, 2, 3, 4, 0, 1, 2, 3, 4, 0, 1, 2, 3, 4, 0, 1, 2, 3, 4, 0, 1, 2, 3, 4, 0, 1, 2, 3, 4, 0, 1, 2, 3, 4, 0, 1, 2, 3, 4, 0, 1, 2, 3, 4, 0, 1, 2, 3, 4]\n",
      "\n",
      "******************************\n",
      "training, epoch 1\n",
      "[0, 1, 4, 9, 16, 25, 36, 49, 64, 81, 0, 1, 4, 9, 16, 25, 36, 49, 64, 81, 0, 1, 4, 9, 16, 25, 36, 49, 64, 81, 0, 1, 4, 9, 16, 25, 36, 49, 64, 81, 0, 1, 4, 9, 16, 25, 36, 49, 64, 81, 0, 1, 4, 9, 16, 25, 36, 49, 64, 81, 0, 1, 4, 9, 16, 25, 36, 49, 64, 81, 0, 1, 4, 9, 16, 25, 36, 49, 64, 81, 0, 1, 4, 9, 16, 25, 36, 49, 64, 81, 0, 1, 4, 9, 16, 25, 36, 49, 64, 81]\n",
      "\n",
      "validating\n",
      "[0, 1, 2, 3, 4, 0, 1, 2, 3, 4, 0, 1, 2, 3, 4, 0, 1, 2, 3, 4, 0, 1, 2, 3, 4, 0, 1, 2, 3, 4, 0, 1, 2, 3, 4, 0, 1, 2, 3, 4, 0, 1, 2, 3, 4, 0, 1, 2, 3, 4]\n",
      "\n",
      "******************************\n"
     ]
    }
   ],
   "source": [
    "training_ds = tf.data.Dataset.range(10).map(\n",
    "                lambda x: x**2).repeat()\n",
    "validation_ds = tf.data.Dataset.range(5).repeat(10)\n",
    "\n",
    "handle = tf.placeholder(tf.string, shape=[])\n",
    "it_feedable = tf.data.Iterator.from_string_handle(\n",
    "                                    handle, \n",
    "                                    training_ds.output_types,\n",
    "                                    training_ds.output_shapes)\n",
    "\n",
    "it_feed_nxt = it_feedable.get_next()\n",
    "\n",
    "train_it_one_shot = training_ds.make_one_shot_iterator()\n",
    "val_it_initializable = validation_ds.make_initializable_iterator()\n",
    "\n",
    "# returns tensor that can be evaluated & fed to the `handle` placeholder\n",
    "with tf.Session() as sess:\n",
    "    train_handle = sess.run(train_it_one_shot.string_handle())\n",
    "    val_handle = sess.run(val_it_initializable.string_handle())\n",
    "\n",
    "    i = 0\n",
    "    while i < 2:\n",
    "        \n",
    "        # training steps\n",
    "        values = []\n",
    "        print('training, epoch {}'.format(i))\n",
    "        for _ in range(100):\n",
    "            values.append(sess.run(it_feed_nxt,\n",
    "                                   feed_dict={handle: train_handle}))\n",
    "        print(values, end='\\n\\n')\n",
    "        \n",
    "        values = []\n",
    "        sess.run(val_it_initializable.initializer)\n",
    "        print('validating')\n",
    "        for _ in range(50):\n",
    "            values.append(sess.run(it_feed_nxt,\n",
    "                                   feed_dict={handle: val_handle}))\n",
    "        print(values, end='\\n\\n')\n",
    "        print('*'*30)\n",
    "        i += 1"
   ]
  },
  {
   "cell_type": "code",
   "execution_count": 163,
   "metadata": {},
   "outputs": [
    {
     "name": "stdout",
     "output_type": "stream",
     "text": [
      "0\n",
      "1\n",
      "4\n",
      "9\n",
      "16\n",
      "the end, my only friend!\n"
     ]
    }
   ],
   "source": [
    "outrange_ds = tf.data.Dataset.range(5)\n",
    "outr_it = outrange_ds.make_initializable_iterator()\n",
    "outr_nxt = outr_it.get_next()\n",
    "\n",
    "thing = tf.multiply(outr_nxt, outr_nxt)\n",
    "\n",
    "with tf.Session() as sess:\n",
    "    sess.run(outr_it.initializer)\n",
    "    for _ in range(10):\n",
    "        try:\n",
    "            print(sess.run(thing))\n",
    "        except tf.errors.OutOfRangeError:\n",
    "            print('the end, my only friend!')\n",
    "            break"
   ]
  },
  {
   "cell_type": "markdown",
   "metadata": {},
   "source": [
    "As a reminder, each time you call `get_next()` even if only retrieving one tensor among many, the iterator advances one step. Hence it is best to include all results in one expression."
   ]
  },
  {
   "cell_type": "code",
   "execution_count": 126,
   "metadata": {},
   "outputs": [
    {
     "name": "stdout",
     "output_type": "stream",
     "text": [
      "(50,) () (100,)\n"
     ]
    }
   ],
   "source": [
    "retrieve_ds1 = tf.data.Dataset.from_tensor_slices(tf.random_uniform([5,50]))\n",
    "retrieve_ds2 = tf.data.Dataset.from_tensor_slices((tf.random_uniform([5]), tf.random_uniform([5,100])))\n",
    "retrieve_ds3 = tf.data.Dataset.zip((retrieve_ds1, retrieve_ds2))\n",
    "retrieve_it = retrieve_ds3.make_initializable_iterator()\n",
    "\n",
    "with tf.Session() as sess:\n",
    "    sess.run(retrieve_it.initializer)\n",
    "    nxt1, (nxt2, nxt3) = retrieve_it.get_next()\n",
    "    print(nxt1.shape, nxt2.shape, nxt3.shape)"
   ]
  },
  {
   "cell_type": "markdown",
   "metadata": {},
   "source": [
    "### Saving an iterator state\n",
    "It is possible! Similar to saving variables"
   ]
  },
  {
   "cell_type": "code",
   "execution_count": 9,
   "metadata": {},
   "outputs": [
    {
     "name": "stdout",
     "output_type": "stream",
     "text": [
      "trainable_variables\n",
      "first pass, values:\n",
      " [0, 1, 2, 3, 4, 5, 6, 7, 8, 9, 10, 11, 12, 13, 14, 15, 16, 17, 18, 19, 20, 21, 22, 23, 24, 25, 26, 27, 28, 29]\n",
      "\n",
      "INFO:tensorflow:Restoring parameters from /media/default/linux-data/learning2/TensorFlow/bits/saveable.ckpt\n",
      "[30, 31, 32, 33, 34, 35, 36, 37, 38, 39, 40, 41, 42, 43, 44, 45, 46, 47, 48, 49, 50, 51, 52, 53, 54, 55, 56, 57, 58, 59, 60, 61, 62, 63, 64, 65, 66, 67, 68, 69, 70, 71, 72, 73, 74, 75, 76, 77, 78, 79, 80, 81, 82, 83, 84, 85, 86, 87, 88, 89, 90, 91, 92, 93, 94, 95, 96, 97, 98, 99]\n"
     ]
    }
   ],
   "source": [
    "save_ds = tf.data.Dataset.range(100)\n",
    "save_it = save_ds.make_one_shot_iterator()\n",
    "save_nxt = save_it.get_next()\n",
    "\n",
    "saveable = tf.data.experimental.make_saveable_from_iterator(save_it)\n",
    "tf.add_to_collection(tf.GraphKeys.SAVEABLE_OBJECTS, saveable)\n",
    "saver = tf.train.Saver()\n",
    "path = (os.path.join(os.path.abspath('.'), 'saveable.ckpt'))\n",
    "\n",
    "# save\n",
    "with tf.Session() as sess:\n",
    "    values = []\n",
    "    i = 0\n",
    "    while i < 30:\n",
    "        values.append(sess.run(save_nxt))\n",
    "        i += 1\n",
    "    print('first pass, values:\\n', values, end='\\n\\n')\n",
    "    saver.save(sess, path)\n",
    "\n",
    "# restore: it starts from 30!\n",
    "with tf.Session() as sess:\n",
    "    values = []\n",
    "    saver.restore(sess, path)\n",
    "    while True:\n",
    "        try:\n",
    "            values.append(sess.run(save_nxt))\n",
    "        except tf.errors.OutOfRangeError:\n",
    "            print(values)\n",
    "            break"
   ]
  },
  {
   "cell_type": "markdown",
   "metadata": {},
   "source": [
    "---\n",
    "\n",
    "## Group by window\n",
    "\n",
    "Documentation [here](https://www.tensorflow.org/api_docs/python/tf/data/experimental/group_by_window).  \n",
    "Stack discussion [here](https://stackoverflow.com/questions/45292517/how-do-i-use-the-group-by-window-function-in-tensorflow)."
   ]
  },
  {
   "cell_type": "code",
   "execution_count": 89,
   "metadata": {},
   "outputs": [
    {
     "name": "stdout",
     "output_type": "stream",
     "text": [
      "[ 0  1  2  3  4  5  6  7  8  9 10 11 12 13 14 15 16 17 18 19 20 21 22 23\n",
      " 24 25 26 27 28 29 30 31 32 33 34 35 36 37 38 39 40 41 42 43 44 45 46 47\n",
      " 48 49 50 51 52 53 54 55 56 57 58 59 60 61 62 63 64 65 66 67 68 69 70 71\n",
      " 72 73 74 75 76 77 78 79 80 81 82 83 84 85 86 87 88 89 90 91 92 93 94 95\n",
      " 96 97 98 99]\n"
     ]
    }
   ],
   "source": [
    "components = np.arange(100).astype(np.int64)\n",
    "print(components)"
   ]
  },
  {
   "cell_type": "code",
   "execution_count": 116,
   "metadata": {},
   "outputs": [
    {
     "name": "stdout",
     "output_type": "stream",
     "text": [
      "54 | size: ()\n",
      "88 | size: ()\n",
      "64 | size: ()\n",
      "94 | size: ()\n",
      "4 | size: ()\n",
      "74 | size: ()\n",
      "6 | size: ()\n",
      "18 | size: ()\n",
      "58 | size: ()\n",
      "68 | size: ()\n"
     ]
    }
   ],
   "source": [
    "components_ds = tf.data.Dataset.from_tensor_slices(components)\n",
    "components_ds = components_ds.apply(\n",
    "                    tf.data.experimental.group_by_window(\n",
    "                                key_func=lambda x: x%2, \n",
    "                                reduce_func=lambda key, x: x.batch(50), # takes key & dataset as arguments\n",
    "                                window_size=100))\n",
    "components_it = components_ds.make_one_shot_iterator()\n",
    "features = components_it.get_next()\n",
    "with tf.Session() as sess:\n",
    "    for _ in range(10):\n",
    "        try:\n",
    "            values = sess.run(features)\n",
    "            print(values, '| size:', values.shape)\n",
    "        except tf.errors.OutOfRangeError:\n",
    "            print('over and out!')\n",
    "            break"
   ]
  }
 ],
 "metadata": {
  "kernelspec": {
   "display_name": "Python 3",
   "language": "python",
   "name": "python3"
  },
  "language_info": {
   "codemirror_mode": {
    "name": "ipython",
    "version": 3
   },
   "file_extension": ".py",
   "mimetype": "text/x-python",
   "name": "python",
   "nbconvert_exporter": "python",
   "pygments_lexer": "ipython3",
   "version": "3.6.7"
  }
 },
 "nbformat": 4,
 "nbformat_minor": 2
}
