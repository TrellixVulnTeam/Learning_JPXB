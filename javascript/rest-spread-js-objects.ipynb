{
 "cells": [
  {
   "cell_type": "markdown",
   "metadata": {},
   "source": [
    "# Fun with Resting and Spreading JS Objects\n",
    "\n",
    "[Source here](https://blog.bitsrc.io/6-tricks-with-resting-and-spreading-javascript-objects-68d585bdc8)."
   ]
  },
  {
   "cell_type": "code",
   "execution_count": 1,
   "metadata": {},
   "outputs": [
    {
     "name": "stdout",
     "output_type": "stream",
     "text": [
      "{ id: 100, name: 'First Thing' }\n",
      "{ id: 100, name: 'First Thing', blah: 'blah' }\n"
     ]
    }
   ],
   "source": [
    "const thing = { id: 100, name:'First Thing'}\n",
    "const otherThing = {...thing, blah: 'blah'}\n",
    "console.log(thing)\n",
    "console.log(otherThing)"
   ]
  },
  {
   "cell_type": "code",
   "execution_count": 2,
   "metadata": {},
   "outputs": [
    {
     "name": "stdout",
     "output_type": "stream",
     "text": [
      "{ id: 100, name: 'one', pass: 'two' }\n"
     ]
    }
   ],
   "source": [
    "const p1 = {id: 100, name: 'one'}\n",
    "const p2 = {id: 100, pass: 'two'}\n",
    "const p3 = {...p1, ...p2}\n",
    "console.log(p3)"
   ]
  },
  {
   "cell_type": "code",
   "execution_count": 3,
   "metadata": {},
   "outputs": [
    {
     "name": "stdout",
     "output_type": "stream",
     "text": [
      "{ id: 100, name: 'partial', blah: 'blah' }\n"
     ]
    }
   ],
   "source": [
    "const partial = {id: 100, name: 'partial'}\n",
    "const par2 = {...partial, id: 100, blah: 'blah'}\n",
    "console.log(par2)"
   ]
  },
  {
   "cell_type": "code",
   "execution_count": 4,
   "metadata": {},
   "outputs": [
    {
     "name": "stdout",
     "output_type": "stream",
     "text": [
      "{ id: 100, name: 'Ah!' }\n"
     ]
    }
   ],
   "source": [
    "const noBlah = ({blah, ...rest}) => rest\n",
    "const oneMoreThing = {\n",
    "    id: 100,\n",
    "    name: 'Ah!',\n",
    "    blah: 'blah'\n",
    "}\n",
    "console.log(noBlah(oneMoreThing))"
   ]
  },
  {
   "cell_type": "code",
   "execution_count": 5,
   "metadata": {},
   "outputs": [
    {
     "name": "stdout",
     "output_type": "stream",
     "text": [
      "{ id: 100, name: 'Huh' }\n",
      "{ name: 'Huh', blah: 'blah' }\n"
     ]
    }
   ],
   "source": [
    "const yetAnother = {\n",
    "    id: 100,\n",
    "    name: 'Huh',\n",
    "    blah: 'blah'\n",
    "}\n",
    "\n",
    "const removeProperty = prop => ({ [prop]: _, ...rest }) => rest\n",
    "const removeBlah = removeProperty('blah')\n",
    "const removeId = removeProperty('id')\n",
    "\n",
    "console.log(removeBlah(yetAnother))\n",
    "console.log(removeId(yetAnother))"
   ]
  },
  {
   "cell_type": "code",
   "execution_count": 6,
   "metadata": {},
   "outputs": [
    {
     "name": "stdout",
     "output_type": "stream",
     "text": [
      "{ name: 'Huh' }\n"
     ]
    }
   ],
   "source": [
    "console.log(removeBlah(removeId(yetAnother)))"
   ]
  },
  {
   "cell_type": "code",
   "execution_count": 1,
   "metadata": {},
   "outputs": [
    {
     "name": "stdout",
     "output_type": "stream",
     "text": [
      "{ blah: 'blah', name: 'example', id: 300 }\n",
      "{ id: 300, blah: 'blah', name: 'example' }\n"
     ]
    }
   ],
   "source": [
    "const otherEx = {\n",
    "    blah: 'blah',\n",
    "    name: 'example',\n",
    "    id: 300\n",
    "}\n",
    "\n",
    "console.log(otherEx)\n",
    "\n",
    "const organise = object => ({ id: undefined, ...object })\n",
    "\n",
    "console.log(organise(otherEx))"
   ]
  },
  {
   "cell_type": "code",
   "execution_count": 1,
   "metadata": {},
   "outputs": [
    {
     "name": "stdout",
     "output_type": "stream",
     "text": [
      "{ blah: 'blah', name: 'example', id: 300 }\n",
      "{ name: 'example', id: 300, blah: 'blah' }\n"
     ]
    }
   ],
   "source": [
    "const yetAnotherEx = {\n",
    "    blah: 'blah',\n",
    "    name: 'example',\n",
    "    id: 300\n",
    "}\n",
    "\n",
    "console.log(yetAnotherEx)\n",
    "\n",
    "const organise = ({ blah, ...object }) => ({ ...object, blah })\n",
    "\n",
    "console.log(organise(yetAnotherEx))"
   ]
  },
  {
   "cell_type": "code",
   "execution_count": 1,
   "metadata": {},
   "outputs": [
    {
     "name": "stdout",
     "output_type": "stream",
     "text": [
      "{ id: 200, name: 'a' }\n",
      "{ id: 400, name: 'b', quotes: [ 'so fckin b' ] }\n",
      "\n",
      "{ id: 200, name: 'a', quotes: [] }\n",
      "{ id: 400, name: 'b', quotes: [ 'so fckin b' ] }\n"
     ]
    }
   ],
   "source": [
    "const a = {\n",
    "    id: 200,\n",
    "    name: 'a'\n",
    "}\n",
    "\n",
    "const b = {\n",
    "    id: 400,\n",
    "    name: 'b',\n",
    "    quotes: ['so fckin b']\n",
    "}\n",
    "\n",
    "const setDefaults = ({ quotes = [], ...object}) => ({ ...object, quotes})\n",
    "\n",
    "console.log(a)\n",
    "console.log(b)\n",
    "console.log()\n",
    "console.log(setDefaults(a))\n",
    "console.log(setDefaults(b))"
   ]
  },
  {
   "cell_type": "code",
   "execution_count": 2,
   "metadata": {},
   "outputs": [
    {
     "name": "stdout",
     "output_type": "stream",
     "text": [
      "{ BLAH: 'blah', name: 'c' }\n",
      "{ blah: 'blah', name: 'c' }\n"
     ]
    }
   ],
   "source": [
    "const renameBlah = ({ BLAH, ...object }) => ({ blah: BLAH, ...object })\n",
    "\n",
    "const c = {\n",
    "    BLAH: 'blah',\n",
    "    name: 'c'\n",
    "}\n",
    "\n",
    "console.log(c)\n",
    "console.log(renameBlah(c))"
   ]
  },
  {
   "cell_type": "code",
   "execution_count": 1,
   "metadata": {},
   "outputs": [
    {
     "name": "stdout",
     "output_type": "stream",
     "text": [
      "{ id: 100, name: 'd' }\n",
      "{ id: 100, name: 'd', diblah: 'diblah' }\n",
      "{ id: 100, name: 'd' }\n"
     ]
    }
   ],
   "source": [
    "const d = {\n",
    "    id: 100,\n",
    "    name: 'd'\n",
    "}\n",
    "\n",
    "const diblah = 'diblah' // included since truthy\n",
    "\n",
    "const e = {\n",
    "    ...d,\n",
    "    id: 100,\n",
    "    ...(diblah && { diblah })\n",
    "}\n",
    "\n",
    "const reblah = '' // will not pass since falsy\n",
    "\n",
    "const f = {\n",
    "    ...d,\n",
    "    id: 100,\n",
    "    ...(reblah && { reblah })\n",
    "}\n",
    "\n",
    "console.log(d)\n",
    "console.log(e)\n",
    "console.log(f)"
   ]
  }
 ],
 "metadata": {
  "kernelspec": {
   "display_name": "Javascript (Node.js)",
   "language": "javascript",
   "name": "javascript"
  },
  "language_info": {
   "file_extension": ".js",
   "mimetype": "application/javascript",
   "name": "javascript",
   "version": "10.13.0"
  }
 },
 "nbformat": 4,
 "nbformat_minor": 4
}
